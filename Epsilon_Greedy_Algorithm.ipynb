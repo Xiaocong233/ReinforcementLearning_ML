{
  "nbformat": 4,
  "nbformat_minor": 0,
  "metadata": {
    "colab": {
      "name": "Epsilon-Greedy Algorithm",
      "provenance": [],
      "collapsed_sections": []
    },
    "kernelspec": {
      "name": "python3",
      "display_name": "Python 3"
    }
  },
  "cells": [
    {
      "cell_type": "code",
      "metadata": {
        "id": "LYuMPoL-LJdv",
        "colab_type": "code",
        "colab": {
          "base_uri": "https://localhost:8080/",
          "height": 514
        },
        "outputId": "02f2a048-bfb2-4398-b46d-9826fd99090d"
      },
      "source": [
        "import matplotlib.pyplot as plt\n",
        "import numpy as np\n",
        "\n",
        "class Bandit:\n",
        "  def __init__(self, p):\n",
        "    self.p = p # the winning rate\n",
        "    self.p_estimate = 0. # estimation of the winning rate, intialized to 0\n",
        "    self.N = 0. # number of samples collected\n",
        "\n",
        "  def pull(self):\n",
        "    # draw a random probability p and check if won according to the winning rate\n",
        "    return np.random.random() < self.p\n",
        "\n",
        "  def update(self, x):\n",
        "    # increment numbers of samples collected\n",
        "    self.N += 1.\n",
        "    # calculate the new p hat from the previous p hat and the newly obtained value\n",
        "    self.p_estimate = ((self.N - 1) * self.p_estimate + x) / self.N\n",
        "\n",
        "def run_experiment(bandits_probs_list, epsilon, N):\n",
        "  # create a list of bandit objects according to their probabilities of win rate\n",
        "  bandits = [Bandit(p) for p in bandits_probs_list]\n",
        "  \n",
        "  # initialize variables\n",
        "  rewards = np.zeros(NUM_TRIALS)\n",
        "  num_times_explored = 0\n",
        "  num_times_exploited = 0\n",
        "  num_optimal = 0\n",
        "\n",
        "  # print out the true optimal bandit index\n",
        "  optimal_j = np.argmax([b.p for b in bandits])\n",
        "  print('optimal j:', optimal_j)\n",
        "\n",
        "  for i in range(NUM_TRIALS):\n",
        "    # use epsilon_greedy to select the next bandit\n",
        "    if np.random.random() < epsilon:\n",
        "      num_times_explored += 1\n",
        "      j = np.random.randint(len(bandits))\n",
        "    else:\n",
        "      num_times_exploited += 1\n",
        "      j = np.argmax([b.p_estimate for b in bandits])\n",
        "    \n",
        "    if j == optimal_j:\n",
        "      num_optimal += 1\n",
        "\n",
        "    # pull the arm for the bandit selected\n",
        "    x = bandits[j].pull()\n",
        "\n",
        "    # update rewards log\n",
        "    rewards[i] = x\n",
        "    bandits[j].update(x)     \n",
        "  \n",
        "  # print mean estimates for each bandit\n",
        "  for i, b in enumerate(bandits):\n",
        "    print(f'bandit{i + 1} estimate win-rate: {round(b.p_estimate, 3)} | true win_rate: {b.p}')\n",
        "\n",
        "  # print total reward\n",
        "  print()\n",
        "  print('total reward:', rewards.sum())\n",
        "  print('overall win-rate:', rewards.sum() / NUM_TRIALS)\n",
        "  print('explore count:', num_times_explored)\n",
        "  print('exploit count:', num_times_exploited)\n",
        "  print('optimal selection count:', num_optimal)\n",
        "\n",
        "  # plot the results\n",
        "  cumulative_rewards = np.cumsum(rewards)\n",
        "  win_rates = cumulative_rewards / (np.arange(NUM_TRIALS) + 1)\n",
        "  plt.plot(win_rates)\n",
        "  plt.plot(np.ones(NUM_TRIALS) * np.max(bandits_probs_list))\n",
        "  plt.title('cumulative win-rate over time')\n",
        "  plt.xlabel('number of trials')\n",
        "  plt.ylabel('win-rate')\n",
        "  plt.show()\n",
        "\n",
        "if __name__ == '__main__':\n",
        "  # simulate a multi-armed bandit problem with 5 machines with win-rates 0, 0.25, 0.5, 0.75 and 1\n",
        "  # default random selection to happen 10% of the time, thus selecting epsilon of 0.1\n",
        "  # default to 10000 trials\n",
        "  run_experiment([0, 0.25, 0.5, 0.75, 1], 0.1, 10000)\n"
      ],
      "execution_count": 74,
      "outputs": [
        {
          "output_type": "stream",
          "text": [
            "No handles with labels found to put in legend.\n"
          ],
          "name": "stderr"
        },
        {
          "output_type": "stream",
          "text": [
            "optimal j: 4\n",
            "bandit1 estimate win-rate: 0.0 | true win_rate: 0\n",
            "bandit2 estimate win-rate: 0.224 | true win_rate: 0.25\n",
            "bandit3 estimate win-rate: 0.443 | true win_rate: 0.5\n",
            "bandit4 estimate win-rate: 0.752 | true win_rate: 0.75\n",
            "bandit5 estimate win-rate: 1.0 | true win_rate: 1\n",
            "\n",
            "total reward: 9486.0\n",
            "overall win-rate: 0.9486\n",
            "explore count: 995\n",
            "exploit count: 9005\n",
            "optimal selection count: 9196\n"
          ],
          "name": "stdout"
        },
        {
          "output_type": "display_data",
          "data": {
            "image/png": "[encoded data removed]",
            "text/plain": [
              "<Figure size 432x288 with 1 Axes>"
            ]
          },
          "metadata": {
            "tags": [],
            "needs_background": "light"
          }
        }
      ]
    },
    {
      "cell_type": "code",
      "metadata": {
        "id": "wRxZqqYzRGdg",
        "colab_type": "code",
        "colab": {}
      },
      "source": [
        ""
      ],
      "execution_count": 74,
      "outputs": []
    }
  ]
}
