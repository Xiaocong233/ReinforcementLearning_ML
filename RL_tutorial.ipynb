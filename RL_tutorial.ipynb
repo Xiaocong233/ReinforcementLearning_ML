{
  "nbformat": 4,
  "nbformat_minor": 0,
  "metadata": {
    "colab": {
      "name": "RL_tutorial_StartOnAI",
      "provenance": [],
      "collapsed_sections": [],
      "include_colab_link": true
    },
    "kernelspec": {
      "name": "python3",
      "display_name": "Python 3"
    }
  },
  "cells": [
    {
      "cell_type": "markdown",
      "metadata": {
        "id": "view-in-github",
        "colab_type": "text"
      },
      "source": [
        "<a href=\"https://colab.research.google.com/github/Xiaocong233/ReinforcementLearning_ML/blob/master/RL_tutorial.ipynb\" target=\"_parent\"><img src=\"https://colab.research.google.com/assets/colab-badge.svg\" alt=\"Open In Colab\"/></a>"
      ]
    },
    {
      "cell_type": "markdown",
      "metadata": {
        "id": "m8uS_JAfWGOn",
        "colab_type": "text"
      },
      "source": [
        "# **Reinforcement Learning Tutorial in Python**\n",
        "###### Created by **Xiaocong (Bill) Yan** for [StartOnAI](https://startonai.com/)\n",
        "---\n"
      ]
    },
    {
      "cell_type": "markdown",
      "metadata": {
        "id": "xA8EDDN0Xtlv",
        "colab_type": "text"
      },
      "source": [
        "## 1. Introduction to RL"
      ]
    },
    {
      "cell_type": "markdown",
      "metadata": {
        "id": "9JxN8ixlZRc1",
        "colab_type": "text"
      },
      "source": [
        "![](https://lilianweng.github.io/lil-log/assets/images/RL_illustration.png)\n",
        "\n",
        "image source: [A (Long) Peek into Reinforcement Learning by Lilian Weng](https://lilianweng.github.io/lil-log/2018/02/19/a-long-peek-into-reinforcement-learning.html)"
      ]
    },
    {
      "cell_type": "markdown",
      "metadata": {
        "id": "70m6nTsAaXFD",
        "colab_type": "text"
      },
      "source": [
        "- What is Reinforcement Learning?\n",
        "  - RL is a subfield in machine learning, it particularly focuses on training AI agents to behave optimally by learning directly from its surrounding environment\n",
        "  - As ML engineers, we have to provide algorithms and environment to train the agent with. More crucially, we have to engineer a reward system that will award the agent for choosing desirable actions while punish the agent for doing undesirable actions"
      ]
    },
    {
      "cell_type": "markdown",
      "metadata": {
        "id": "cX5hf1YrgCzC",
        "colab_type": "text"
      },
      "source": [
        "- RL Applications\n",
        "  - autonomous driving\n",
        "  <img src=\"https://i.imgur.com/iT97tLQ.jpg?1\" width=\"500\" height=\"300\">\n",
        "\n",
        "  - advertisement selections\n",
        "  - gameplaying AIs\n",
        "    - AlphaGo\n",
        "    <img src=\"https://cdn.geekwire.com/wp-content/uploads/2016/03/160312-go-630x353.jpg\" width=\"500\" height=\"300\">\n",
        "    \n",
        "    - AlphaStar\n",
        "    <img src=\"https://www.version2.dk/sites/v2/files/topillustration/2019/01/alphastarscreenshot.png\" width=\"600\" height=\"337\">\n",
        "\n",
        "  - agent in simulation learning to walk\n",
        "  <img src=\"https://nav74neet.github.io/media/blog/walking.png\" alt=\"alt text\"  width='600' height='250'>\n",
        "\n",
        "  - robots learning to grasp and manipulate objects\n",
        "  <img src=\"https://i.ytimg.com/vi/iaF43Ze1oeI/maxresdefault.jpg\" alt=\"alt text\"  width='640' height='360'>"
      ]
    },
    {
      "cell_type": "markdown",
      "metadata": {
        "id": "MiG2yaOoYwAE",
        "colab_type": "text"
      },
      "source": [
        "## 2. Explore-Exploit and Multi-Armed Bandit Problem"
      ]
    },
    {
      "cell_type": "markdown",
      "metadata": {
        "id": "6nUdqjmn4fOf",
        "colab_type": "text"
      },
      "source": [
        "- A fundamental intuition of RL lies within the balancing of explore and exploit\n",
        "- Example: casino multi-armed bandits (slot machines)\n",
        "<img src=\"https://miro.medium.com/max/1250/1*7axVBpiVF4VQCxxP1UNcnw.png\" alt=\"alt text\"  width='743' height='280'>\n",
        "\n",
        "  image source: [The Multi-Armed Bandit — to explore or exploit?](https://medium.com/10x-curiosity/the-multi-armed-bandit-to-explore-or-exploit-88556cb67c1c)\n",
        "\n",
        "  - suppose we have three bandits with their own unique probablities of winning the jackpot\n",
        "    - in this case, the agent is learning from the environment \"casino\" containing the three bandits by repeatedly taking action and playing, along the way figuring out which bandit is the best to play\n",
        "      - at start, the agent has no ideas what the probabilities of the real win rate are\n",
        "      - the agent then \"explores\" by playing and collecting sample proportions of win rate as estimates for the actual win rate\n",
        "    - however, we know that sample proportions are not always accurate, especially at first when we haven't played the bandits enough yet\n",
        "      - therefore, what we are actually seeking to solve is to make the agent find the bandit with the highest actual win rate as quickly as possible such that the agent can then \"exploit\" it by playing solely on it"
      ]
    },
    {
      "cell_type": "markdown",
      "metadata": {
        "id": "9Jr07JV7C95k",
        "colab_type": "text"
      },
      "source": [
        "### 2A. Greedy Algorithm\n",
        "  - drawing upon an updating sample proportion ${\\hat{p}}$ of each bandit (current number of wins / times played on the bandit), a basic greedy algorithm, as its name suggests, will only choose the bandit with the highest current sample proportion\n",
        "  - problem: ${\\hat{p}}$ may be drastically different than the real probability ${p}$, as we discussed, especially in the beginning where we don't have many samples or times played yet\n",
        "    - in fact, in the beginning if we draw two bandits and one return a win and the other a loss, updating ${\\hat{p}}$ will result in a 1.0 for the victorious bandit and a 0.0 for the losing bandit, meaning that we estimate the first bandit will always win and the second bandit will always lose.\n",
        "      - we know this is probably not true\n",
        "      - however, by the nature of the greedy algorithm, we will never again choose the losing bandit since no matter how many times we update the probability for the victorious bandit, it will never reach below 0 because of its initial one win, so we will always choose the first bandit\n",
        "      - practically, we will be missing out on exploring the losing bandit at all and choose to solely exploit the winning bandit, when, in reality, the unlucky losing bandit may have a much higher real winning rate"
      ]
    },
    {
      "cell_type": "markdown",
      "metadata": {
        "id": "mMz8HXo5HKtI",
        "colab_type": "text"
      },
      "source": [
        "### 2B. Epsilon Greedy Algorithm\n",
        "  - solution to the greedy problem: adding a chance in each draw, parameterized by variable ${epsilon}$, where we will choose randomly from all the existing bandits, regardless of their sample proportions\n",
        "  - thus it is created a fundamental algorithm behind RL"
      ]
    },
    {
      "cell_type": "code",
      "metadata": {
        "id": "LYuMPoL-LJdv",
        "colab_type": "code",
        "colab": {
          "base_uri": "https://localhost:8080/",
          "height": 976
        },
        "outputId": "0684e274-9bad-4cf4-d7b8-60567764521d"
      },
      "source": [
        "# importing essential libraries for graphing and array processing\n",
        "import matplotlib.pyplot as plt\n",
        "import numpy as np\n",
        "\n",
        "# creating the blueprint for a bandit slot machine\n",
        "class Bandit:\n",
        "  def __init__(self, p):\n",
        "    self.p = p # the winning rate\n",
        "    self.p_hat = 0 # sample proportion, or the estimation for the winning rate, intialized to 0\n",
        "    self.n = 0 # number of samples collected on this bandit\n",
        "\n",
        "  # pull the virtual bandit with a random probability p and check if won according to the winning rate\n",
        "  def pull(self):\n",
        "    # return 1 if won, 0 if lost\n",
        "    return np.random.random() < self.p\n",
        "\n",
        "  def update(self, x):\n",
        "    # increment numbers of samples collected\n",
        "    self.n += 1\n",
        "    # calculate the new p hat from the previous p hat and the newly obtained value (0 or 1)\n",
        "    self.p_hat = ((self.n - 1) * self.p_hat + x) / self.n\n",
        "\n",
        "# run a simulation of multi-armed bandit problem using epsilon greedy\n",
        "def run_simulation(bandits_probs_list, epsilon, N):\n",
        "  \"\"\"\n",
        "  args\n",
        "    bandits_probs_list: a list containing the win-rates of bandits that we want to create\n",
        "    epsilon: probability of random selection\n",
        "    n: numbers of trials, times we pull from bandits\n",
        "  \"\"\"\n",
        "  # create a list of bandit objects according to their probabilities of win rate\n",
        "  bandits = [Bandit(p) for p in bandits_probs_list]\n",
        "  \n",
        "  # initialize variables\n",
        "  rewards = np.zeros(N)\n",
        "  times_explored = 0\n",
        "  times_exploited = 0\n",
        "  times_optimal_chosen = 0\n",
        "\n",
        "  # selecting the optimal bandit based the highest true probability\n",
        "  optimal_bandit = np.argmax([bandit.p for bandit in bandits])\n",
        "  # print out the true optimal bandit number\n",
        "  print('optimal bandit:', optimal_bandit + 1) # +1 because optimal_bandit is 0 indexed\n",
        "\n",
        "  # use epsilon_greedy to select the next bandit\n",
        "  for i in range(N):\n",
        "    # if probability drawn is smaller than epsilon, randomly select a bandit\n",
        "    if np.random.random() < epsilon:\n",
        "      times_explored += 1\n",
        "      bandit = np.random.randint(len(bandits))\n",
        "    # else selecting the bandit with the highest p_hat\n",
        "    else:\n",
        "      times_exploited += 1\n",
        "      bandit = np.argmax([bandit.p_hat for bandit in bandits])\n",
        "                         \n",
        "    # check if the bandit chosen is actually the optimal bandit\n",
        "    if bandit == optimal_bandit:\n",
        "      # update the correct action count\n",
        "      times_optimal_chosen += 1\n",
        "\n",
        "    # pull the arm for the bandit selected\n",
        "    x = bandits[bandit].pull()\n",
        "\n",
        "    # update rewards logs and sample proportion estimates accordingly\n",
        "    rewards[i] = x\n",
        "    bandits[bandit].update(x)     \n",
        "  \n",
        "  # print proportion estimates for each bandit\n",
        "  for i, bandit in enumerate(bandits):\n",
        "    print(f'bandit{i + 1} estimate win-rate: {round(bandit.p_hat, 3)} | true win_rate: {bandit.p}')\n",
        "\n",
        "  # print total reward\n",
        "  print()\n",
        "  print('total reward:', rewards.sum())\n",
        "  print('overall win-rate:', rewards.sum() / N)\n",
        "  print('explore count:', times_explored)\n",
        "  print('exploit count:', times_exploited)\n",
        "  print('optimal selection rate:', times_optimal_chosen / N)\n",
        "  print(\"num times selected each bandit:\", [bandit.n for bandit in bandits])\n",
        "\n",
        "  # plot the results\n",
        "  cumulative_rewards = np.cumsum(rewards)\n",
        "  win_rates = cumulative_rewards / (np.arange(N) + 1)\n",
        "  plt.plot(win_rates)\n",
        "  plt.plot(np.ones(N) * np.max(bandits_probs_list))\n",
        "  plt.title('cumulative win-rate over time')\n",
        "  plt.xlabel('number of trials')\n",
        "  plt.ylabel('win-rate')\n",
        "  plt.show()\n",
        "\n",
        "if __name__ == '__main__':\n",
        "  # simulate two multi-armed bandit problem with 4 machines with win-rates 0, 0.25, 0.5, 0.75\n",
        "  # Epsilon default to 0.1, thus 10% of random selection chance\n",
        "  # N defaulted to 10000 trials for first simulation, 100000 for the second\n",
        "  run_simulation([0, 0.25, 0.5, 0.75], 0.1, 10000)\n",
        "  run_simulation([0, 0.25, 0.5, 0.75], 0.1, 100000)"
      ],
      "execution_count": null,
      "outputs": [
        {
          "output_type": "stream",
          "text": [
            "optimal bandit: 4\n",
            "bandit1 estimate win-rate: 0.0 | true win_rate: 0\n",
            "bandit2 estimate win-rate: 0.244 | true win_rate: 0.25\n",
            "bandit3 estimate win-rate: 0.413 | true win_rate: 0.5\n",
            "bandit4 estimate win-rate: 0.748 | true win_rate: 0.75\n",
            "\n",
            "total reward: 7087.0\n",
            "overall win-rate: 0.7087\n",
            "explore count: 988\n",
            "exploit count: 9012\n",
            "optimal selection rate: 0.9261\n",
            "num times selected each bandit: [254, 250, 235, 9261]\n"
          ],
          "name": "stdout"
        },
        {
          "output_type": "display_data",
          "data": {
            "image/png": "[encoded data removed]",
            "text/plain": [
              "<Figure size 432x288 with 1 Axes>"
            ]
          },
          "metadata": {
            "tags": [],
            "needs_background": "light"
          }
        },
        {
          "output_type": "stream",
          "text": [
            "optimal bandit: 4\n",
            "bandit1 estimate win-rate: 0.0 | true win_rate: 0\n",
            "bandit2 estimate win-rate: 0.25 | true win_rate: 0.25\n",
            "bandit3 estimate win-rate: 0.503 | true win_rate: 0.5\n",
            "bandit4 estimate win-rate: 0.749 | true win_rate: 0.75\n",
            "\n",
            "total reward: 71254.0\n",
            "overall win-rate: 0.71254\n",
            "explore count: 9838\n",
            "exploit count: 90162\n",
            "optimal selection rate: 0.92573\n",
            "num times selected each bandit: [2431, 2443, 2553, 92573]\n"
          ],
          "name": "stdout"
        },
        {
          "output_type": "display_data",
          "data": {
            "image/png": "[encoded data removed]",
            "text/plain": [
              "<Figure size 432x288 with 1 Axes>"
            ]
          },
          "metadata": {
            "tags": [],
            "needs_background": "light"
          }
        }
      ]
    },
    {
      "cell_type": "markdown",
      "metadata": {
        "id": "LN0YQFNB2swV",
        "colab_type": "text"
      },
      "source": [
        "  - problem: the chance of selecting a random bandit is fixed throughout all trials\n",
        "    - as time progresses and we collect more and more samples, we should be more confident about the sample proportion estimating the real proportion, therefore we should spend more time exploiting rather than exploring.\n",
        "  - solution 1: decaying epsilon\n",
        "    - we can decrease the epsilon throughout the trials by setting it inversely proportional to trials ${n}$ (${\\frac{epsilon}{n}}$), or be parametrized by a separate variable for time: ${t}$ (${\\frac{epsilon}{t}}$).\n",
        "      - both would function the same way in which we would do random selection less and less as we collect more samples.\n",
        "  - solution 2: more advanced algorithms\n",
        "    - Upper Confidence Bound (UCB)\n",
        "      - deterministic\n",
        "    - Thompson Sampling\n",
        "      - probabilistic\n",
        "  - we will proceed to take a look at UCB in this tutorial, for Thompson Sampling, check out additional resource: [Solving multiarmed bandits: A comparison of epsilon-greedy and Thompson sampling](https://towardsdatascience.com/solving-multiarmed-bandits-a-comparison-of-epsilon-greedy-and-thompson-sampling-d97167ca9a50)\n",
        "\n"
      ]
    },
    {
      "cell_type": "markdown",
      "metadata": {
        "id": "7F29CMden80L",
        "colab_type": "text"
      },
      "source": [
        "### 2C. Upper Confidence Bound (UCB) Algorithm\n",
        "**I. Background**\n",
        "- during the explanation of the problem in Epsilon Greedy, the word \"confidence\" was referred in the intuitive sense\n",
        "  - in fact, this confidence can be modeled mathetically as the \"confidence interval\"\n",
        "  - essentially, we can think the confidence interval as a two-sided bound with the sample mean as our center and the region between those two bounds as the place where we estimate the true mean to be contained within\n",
        "  - by law of large numbers, that is, if we take more and more samples, our sample mean should gradually come close to our true mean\n",
        "    - in this sense, we become more confident that our sample mean estimates the true mean, thus the confidence interval would shrink with more samples we take in\n",
        "\n",
        "**II. UCB Intuition**\n",
        "\n",
        "<img src=\"https://media.geeksforgeeks.org/wp-content/uploads/20200126022459/Screenshot-2020-01-26-at-2.24.37-AM.png\" alt=\"alt text\"  width='743' height='340'>\n",
        "\n",
        "image source: [Upper Confidence Bound Algorithm in Reinforcement Learning](https://www.geeksforgeeks.org/upper-confidence-bound-algorithm-in-reinforcement-learning/)\n",
        "\n",
        "- UCB's confidence interval is modeled by the addition of a sample mean estimate with an error term: ${X_j}$ ± ${error}$, and in our context:\n",
        "  - ${X_j}$ = sample proportion for the winrate of bandit ${j}$, estimate for the actual win rate\n",
        "  - ${error}$ = $\\sqrt{\\frac{C\\ln(N)}{n_j}}$ = single-sided confidence bound that we estimate the actual win rate would fall in\n",
        "    - ${C}$ is a constant hyperparameter controlling the size of the bound\n",
        "    - ${N}$ is number of trials taken, the numbers of bandits we already pulled\n",
        "    - ${n_j}$ is the number of times bandit j has been selected\n",
        "  - intuitively, the error term will gradually decrease with more samples collected on one bandit as ${n_j}$ increases in the denominator, representing the agent becoming more confident of the sample proportion estimate\n",
        "    - however, as trial number increases and a bandit j has not been selected very often such that ${n_j}$ is low relative to trials ${N}$, the error will become high, since in UCB the agent will pull the bandit with the highest upperbound, it becomes more likely for the bandit with a high error to be selected to explore\n",
        "    - interestingly, since ${N}$ is inside of a log function, it gradually becomes less weighted compared to ${n_j}$, thus the error term will approach zero with more we explore each bandit\n",
        "\n",
        "- Importantly, across all bandits, UCB algorithm will select the one with the highest ${X_j}$ + ${error}$ value, which is the upper confidence bound, hence the algorithm's name\n",
        "  - We are essentially thinking optimistically that the true win rate of the bandit will fall as high as it could within the confidence interval until it is proven otherwise as we explore through it more\n",
        "\n",
        "**III. Code**\n",
        "    \n"
      ]
    },
    {
      "cell_type": "code",
      "metadata": {
        "id": "wIZGkPE7gW0e",
        "colab_type": "code",
        "colab": {
          "base_uri": "https://localhost:8080/",
          "height": 1000
        },
        "outputId": "ebd9bd2a-4c51-4af8-a34b-f8d3d5d284bd"
      },
      "source": [
        "# importing essential libraries for graphing and array processing\n",
        "import numpy as np\n",
        "import matplotlib.pyplot as plt\n",
        "\n",
        "# creating the blueprint for a bandit slot machine\n",
        "class Bandit:\n",
        "  def __init__(self, p):\n",
        "    self.p = p # the winning rate\n",
        "    self.p_hat = 0 # sample proportion, or the estimation for the winning rate, intialized to 0\n",
        "    self.n = 0 # number of samples collected on this bandit, initialized to 0\n",
        "\n",
        "  def pull(self):\n",
        "    # draw the virtual bandit with a random probability p and check if won according to the winning rate\n",
        "    # return 1 if won, 0 if lost\n",
        "    return np.random.random() < self.p\n",
        "\n",
        "  def update(self, x):\n",
        "    # increment numbers of samples collected\n",
        "    self.n += 1\n",
        "    # calculate the new p hat from the previous p hat and the newly obtained value (0 or 1)\n",
        "    self.p_hat = ((self.n - 1) * self.p_hat + x) / self.n\n",
        "\n",
        "# return the upper bound of bandit\n",
        "def ucb(X, N, n):\n",
        "  \"\"\"\n",
        "  args\n",
        "    X: sample proportion estimate of this bandit's win-rate\n",
        "    N: total numbers of trials so far\n",
        "    n: total numbers of time this bandit has been selected\n",
        "  \"\"\"\n",
        "  return X + np.sqrt(2 * np.log(N) / n)\n",
        "\n",
        "# run a simulation of multi-armed bandit problem with ucb\n",
        "def run_simulation(bandits_probs_list, epsilon, trials):\n",
        "  \"\"\"\n",
        "  args\n",
        "    bandits_probs_list: a list containing the win-rates of bandits that we want to create\n",
        "    epsilon: probability of random selection\n",
        "    trials: numbers of trials, times we pull from bandits\n",
        "  \"\"\"\n",
        "  # create a list of bandit objects according to their probabilities of win rate\n",
        "  bandits = [Bandit(p) for p in bandits_probs_list]\n",
        "  # initialize variables\n",
        "  rewards = np.zeros(trials)\n",
        "  N = 0\n",
        "\n",
        "  # beginning by playing each bandit once to avoid 0/0\n",
        "  for bandit in bandits:\n",
        "    x = bandit.pull()\n",
        "    bandit.update(x)\n",
        "    N += 1\n",
        "  \n",
        "  # repeat for \"trials\" times\n",
        "  for i in range(trials):\n",
        "    # get the index of the bandit with the highest upper confidence bound\n",
        "    bandit_index = np.argmax([ucb(bandit.p_hat, N, bandit.n) for bandit in bandits])\n",
        "    # pull the bandit and update the sample proportion according to its reward, increment trials taken\n",
        "    x = bandits[bandit_index].pull()\n",
        "    bandits[bandit_index].update(x)\n",
        "    N += 1\n",
        "    # logging the reward for trial i\n",
        "    rewards[i] = x\n",
        "\n",
        "  # plot the results on linear scale\n",
        "  cumulative_rewards = np.cumsum(rewards)\n",
        "  win_rates = cumulative_rewards / (np.arange(trials) + 1)\n",
        "  plt.plot(win_rates)\n",
        "  plt.plot(np.ones(trials) * np.max(bandits_probs_list))\n",
        "  plt.title('cumulative win-rate over time')\n",
        "  plt.xlabel('number of trials')\n",
        "  plt.ylabel('win rate')\n",
        "  plt.show()\n",
        "  # plot the results on log scale\n",
        "  cumulative_rewards = np.cumsum(rewards)\n",
        "  win_rates = cumulative_rewards / (np.arange(trials) + 1)\n",
        "  plt.plot(win_rates)\n",
        "  plt.plot(np.ones(trials) * np.max(bandits_probs_list))\n",
        "  plt.xscale('log')\n",
        "  plt.title('cumulative win-rate over time on log scale')\n",
        "  plt.xlabel('number of trials')\n",
        "  plt.ylabel('win-rate')\n",
        "  plt.show()\n",
        "\n",
        "  # print proportion estimates for each bandit\n",
        "  for i, bandit in enumerate(bandits):\n",
        "    print(f'bandit{i + 1} estimate win rate: {round(bandit.p_hat, 3)} | true win rate: {bandit.p}')\n",
        "  print(\"total reward earned:\", rewards.sum())\n",
        "  print(\"overall win rate:\", rewards.sum() / trials)\n",
        "  print(\"num times selected each bandit:\", [bandit.n for bandit in bandits])\n",
        "\n",
        "if __name__ == '__main__':\n",
        "  # simulate two multi-armed bandit problem with 4 machines with win-rates 0, 0.25, 0.5, 0.75\n",
        "  # Epsilon default to 0.1, thus 10% of random selection chance\n",
        "  # N defaulted to 10000 trials for first simulation, 100000 for the second\n",
        "  run_simulation([0, 0.25, 0.5, 0.75], 0.1, 10000)\n",
        "  run_simulation([0, 0.25, 0.5, 0.75], 0.1, 100000)"
      ],
      "execution_count": null,
      "outputs": [
        {
          "output_type": "display_data",
          "data": {
            "image/png": "[encoded data removed]",
            "text/plain": [
              "<Figure size 432x288 with 1 Axes>"
            ]
          },
          "metadata": {
            "tags": [],
            "needs_background": "light"
          }
        },
        {
          "output_type": "display_data",
          "data": {
            "image/png": "[encoded data removed]",
            "text/plain": [
              "<Figure size 432x288 with 1 Axes>"
            ]
          },
          "metadata": {
            "tags": [],
            "needs_background": "light"
          }
        },
        {
          "output_type": "stream",
          "text": [
            "bandit1 estimate win rate: 0.0 | true win rate: 0\n",
            "bandit2 estimate win rate: 0.18 | true win rate: 0.25\n",
            "bandit3 estimate win rate: 0.46 | true win rate: 0.5\n",
            "bandit4 estimate win rate: 0.744 | true win rate: 0.75\n",
            "total reward earned: 7346.0\n",
            "overall win rate: 0.7346\n",
            "num times selected each bandit: [30, 50, 174, 9750]\n"
          ],
          "name": "stdout"
        },
        {
          "output_type": "display_data",
          "data": {
            "image/png": "[encoded data removed]",
            "text/plain": [
              "<Figure size 432x288 with 1 Axes>"
            ]
          },
          "metadata": {
            "tags": [],
            "needs_background": "light"
          }
        },
        {
          "output_type": "display_data",
          "data": {
            "image/png": "[encoded data removed]",
            "text/plain": [
              "<Figure size 432x288 with 1 Axes>"
            ]
          },
          "metadata": {
            "tags": [],
            "needs_background": "light"
          }
        },
        {
          "output_type": "stream",
          "text": [
            "bandit1 estimate win rate: 0.0 | true win rate: 0\n",
            "bandit2 estimate win rate: 0.264 | true win rate: 0.25\n",
            "bandit3 estimate win rate: 0.444 | true win rate: 0.5\n",
            "bandit4 estimate win rate: 0.752 | true win rate: 0.75\n",
            "total reward earned: 75063.0\n",
            "overall win rate: 0.75063\n",
            "num times selected each bandit: [40, 91, 223, 99650]\n"
          ],
          "name": "stdout"
        }
      ]
    },
    {
      "cell_type": "markdown",
      "metadata": {
        "id": "iO6DabZ8nIy8",
        "colab_type": "text"
      },
      "source": [
        "**IV. Reflection**\n",
        "- Compared to Epsilon Greedy, we see the agent's overall win-rate on UCB approaches quickly to the actual win rate on the optimal bandit, representing that the agent consolidating its selection choice down to the optimal bandit as it becomes more confident of its sample proportion estimate. By numbers (num times selected each bandit) we also see that there is also more times exploiting the optimal machine\n",
        "  - Making UCB definitely superior when performing on higher numbers of trials"
      ]
    },
    {
      "cell_type": "markdown",
      "metadata": {
        "id": "CgP8pY3lYAkR",
        "colab_type": "text"
      },
      "source": [
        "## 3. Markov Decision Processes (MDP)\n",
        "- As preluded in the introduction, the diagram with circular interaction between the agent and its environment essentially is a simplified version of MDP\n",
        "- MDP is a fundamental framework from which many of the advanced RL algorithms are developed from\n",
        "\n",
        "![alt text](https://www.researchgate.net/profile/Daniele_Grattarola/publication/323218981/figure/fig9/AS:594583624896516@1518771191892/Graph-representation-of-an-MDP-Each-gray-node-represents-a-state-each-arc-leaving-a.png)\n",
        "\n",
        "image source: [Graph representation of an MDP by Daniele Grattarola](https://www.researchgate.net/figure/Graph-representation-of-an-MDP-Each-gray-node-represents-a-state-each-arc-leaving-a_fig9_323218981)\n",
        "  - Basically, it models the probabilisitc transitions between states through choosing certain actions and afterwards the rewards that will be obtained\n",
        "    - ${S}$: state\n",
        "    - ${a}$: action\n",
        "    - the 0-1 decimals mark the probabilities\n",
        "    - the signed integers mark the rewards\n",
        "\n",
        "- MDP is derived upon basic Markov Models and a concept known as Markov Assumption (Markov Property)\n",
        "    - We will be assuming that the probability distribution of our next states and rewards depends solely on our current state, therefore the first-order Markov assumption\n",
        "      - though this may seem restriciting and unrealistic at first, the Markov Assumption is crucial towards simplifying the complex probablisitic transitions we observe in real life, and it is shown to be extremely practical and applicable in many fields\n",
        "\n",
        "- Important Terminologies\n",
        "  - Episode\n",
        "    - each round of the game from a \"start state\" to a \"terminal state\"\n",
        "  - Policy - ${\\pi(s)}$\n",
        "    - a function that decides what action to commit given a state $s$\n",
        "    - the \"brain\" of the agent\n",
        "    - this is essentially what we want to optimize\n",
        "  - State Value Function - ${V_\\pi(s)}$\n",
        "    - this outputs the expected future return, or the expected cumulative\n",
        "future rewards, that is, the estimate of the summation of all rewards that will be received after state $s$ if we stick to using our current policy ${\\pi}$\n",
        "    - general iterative formula\n",
        "    ![alt text](https://i.imgur.com/uIsblET.png)\n",
        "      - ${E_\\pi}$(): expected value of\n",
        "      - ${R(t+1)}$: reward of next step after current state ${s}$\n",
        "      - ${\\gamma}$: discounting rate\n",
        "        - weighting more the expected returns of the near future states by downgrading the expected value of reward the farther a future state is\n",
        "        - think that we are less confident about the expected returns the farther its state is from our current state\n",
        "      - ${V_\\pi(s')}$: value of next state\n",
        "  - Action Value Function - ${Q_\\pi(s, a)}$ \n",
        "    - this outputs the expected future return given we commit an action ${a}$ on state ${s}$ and thereafter stick to using our current policy ${\\pi}$\n",
        "    - general iterative formula \n",
        "    ![alt text](https://i.imgur.com/NVIC3Zo.png)\n",
        "      - ${R(t+1)}$: reward of next step by choosing action $a$ on current state $s$\n",
        "      - ${\\gamma}$: discounting rate\n",
        "      - ${\\sum_{a'}\\ \\pi(a' | s')\\ Q_\\pi(s', a') | S_t = s, A_t = a}$: the expected action value of the next state given that we choose action $a$ on our state $s$ by multiplying together the probability and value pair of each of possible next action ${a'}$ in the next state ${s'}$\n",
        "\n",
        "- Solving MDP\n",
        "  - the solving procedures for MDP taken by many algorithms are often iterative and involve a loop between two steps\n",
        "    - policy evaluation\n",
        "      - this step will solve for the state value function or action value function discussed above given the agent's current policy\n",
        "    - policy improvement (control)\n",
        "      - this step will update our policy by selecting the action with the highest action value at each state\n",
        "        - thus needing action value function\n",
        "\n",
        "- For potential concerns\n",
        "  - don't worry if the theories don't make much sense now, once we get into more specific algorithms and later the code sections everything will be clearer!\n",
        "  - if you really want to understand the math behind all this, here are some additional outside resources to further your understanding\n",
        "\n",
        "- Additional readings for MDP\n",
        "  - [Reinforcement Learning Demystified: Markov Decision Processes (Part 1)](https://towardsdatascience.com/reinforcement-learning-demystified-markov-decision-processes-part-1-bf00dda41690)\n",
        "  - [Reinforcement Learning Demystified: Markov Decision Processes (Part 2)](https://towardsdatascience.com/reinforcement-learning-demystified-markov-decision-processes-part-2-b209e8617c5a)\n",
        "  - [Barto Sutton Reinforcement Learning](https://www.andrew.cmu.edu/course/10-703/textbook/BartoSutton.pdf): Chapter 3, Page 47\n"
      ]
    },
    {
      "cell_type": "markdown",
      "metadata": {
        "id": "50sila0zYFB9",
        "colab_type": "text"
      },
      "source": [
        "## 4. Monte Carlo Method\n",
        "**I. Intro & Background**\n",
        "\n",
        "Monte Carlo is an effective algorithm that, similar to solving a traditional multi-armed bandit problem, collect empirical data (states, actions, and rewards) by repeatedly playing the game and uses the samples returns to gradually update, refine its policy, thus improving the agent's decision making\n",
        "  - we can essentially think that Monte Carlo treats the action selection at each state as a separate multi-armed bandit problem, only that in this case the bandits are interrelated and we are trying to optimize them all at once \n",
        "\n",
        "**II. Monte Carlo on MDP Intuition**\n",
        "- policy evaluation\n",
        "  - solving policy evaluation involves finding the state value functions ${V(s)}$ for all states given a policy\n",
        "  - MC does this by running many rounds of episodes, and for each episode record each state the agent has been through and their corresponding reward, then calculating and recording the returns $G$ for each state in reverse time steps using iterative formula: ${G(t) = R(t+1) + \\gamma\\ G(t+1)}$, at last averaging G out for each state to obtain the mean return, the state values we wanted\n",
        "- policy improvement (control)\n",
        "  - recall that the action value function ${Q(s, a)}$ is required for solving policy control problem\n",
        "  - similar to the approach we took in policy evluation, MC finds ${Q(s, a)}$ by logging an addition variable action ${a}$ the agent took on top of state ${s}$ and reward ${r}$ as it runs through many episodes\n",
        "    - after obtaining the action value function, we can then update the agent's policy by simply choosing the action that returns the highest action value at each state: $\\pi(s) = argmax_aQ(s,a)$\n",
        "\n",
        "- additional readings for Monte Carlo\n",
        "  - [Barto Sutton Reinforcement Learning](https://www.andrew.cmu.edu/course/10-703/textbook/BartoSutton.pdf): Chapter 5, Page 91\n",
        "\n",
        "\n",
        "**III. Code in FrozenLake Environment**\n",
        "\n",
        "<img src=\"https://mk0analyticsindf35n9.kinstacdn.com/wp-content/uploads/2018/03/Frozen-Lake.png\" alt=\"alt text\"  width='300' height='300'>\n",
        "\n",
        "- FrozenLake is one of the open-source training environments created by OpenAI for reinforcement learning experiments\n",
        "  - it is a gridworld-like game with a movable agent and four states on the map: \n",
        "    - $S$ for the starting state, where the agent begins our game\n",
        "    - $F$ for frozen lake, where the agent can travel through\n",
        "    - $H$ for hole, a terminal state with reward of 0, where the agent tries to avoid\n",
        "    - $G$ for the goal state, a terminal state with reward of 1, where the agent tries to go\n",
        "    - agent will only receive a reward of 1 if it reaches the goal state, receiving 0 otherwise\n",
        "  - we want to train the agent to navigate through each map, reaching the goal state through frozen lake without walking into a hole.\n",
        "- We will be using this library to test out our codes for Monte Carlo and later TD(0) and Q-Learning\n",
        "  - [Website](https://gym.openai.com/envs/FrozenLake-v0/)\n",
        "  - [Source Code](https://github.com/openai/gym/blob/master/gym/envs/toy_text/frozen_lake.py)"
      ]
    },
    {
      "cell_type": "code",
      "metadata": {
        "id": "haaXsPnwWcUO",
        "colab_type": "code",
        "colab": {}
      },
      "source": [
        "# importing OpenAI gym containing the FrozenLake environment we will use\n",
        "import gym\n",
        "# importing essential library for array processing\n",
        "import numpy as np\n",
        "\n",
        "# map a dictionary corresponding numbers to understandable actions for debugging uses\n",
        "actions = {\n",
        "    0 : 'Left',\n",
        "    1 : 'Down',\n",
        "    2 : 'Right',\n",
        "    3 : 'Up'\n",
        "}\n",
        "\n",
        "# play through an episode of FrozenLake and return a list of (state, action, reward) observed using our current policy\n",
        "def play_episode(env, policy, epsilon, i):\n",
        "  \"\"\"\n",
        "  args\n",
        "    env: environment\n",
        "    policy: a dictionary storing states [keys] and the corresponding actions [values]\n",
        "    epsilon: greedy exploration rate \n",
        "    i: the episode number we are on, for debugging purpose\n",
        "  \"\"\"\n",
        "  # reset the environment to starting state\n",
        "  env.reset()\n",
        "  # initialize a list to store the returning triples: state, action, and reward\n",
        "  states_actions_rewards = []\n",
        "  # mark the start state\n",
        "  state = 0\n",
        "\n",
        "  # start our episode with a maximum of 100 steps available before automatic termination\n",
        "  for t in range(100):\n",
        "    # epsilon greedy policy for exploration, since by strictly following our policy we might end up not exploring some states at all\n",
        "    # draw a random float from 0 to 1, and if it is less than our epsilon\n",
        "    if np.random.uniform(0,1) < epsilon:\n",
        "      # choose random action based on our environment's action space\n",
        "      action = env.action_space.sample()\n",
        "    else:\n",
        "      # choose the action decided by our policy\n",
        "      action = policy[state]\n",
        "    # commit the action and get the returning new state, reward, boolean if we reached a terminal state, and debugging information\n",
        "    next_state, reward, done, info = env.step(action)\n",
        "    # append the return as a tuple to the list\n",
        "    states_actions_rewards.append((state, action, reward))\n",
        "    # check that if we reached a terminal state if so print out the how many steps it took, then break through the loop\n",
        "    if done:\n",
        "      print(f\"Episode {i} finished after {t+1} timesteps\")\n",
        "      break\n",
        "    # go to our next state\n",
        "    state = next_state\n",
        "\n",
        "  return states_actions_rewards\n",
        "\n",
        "# a special \"tiebreaking\" argmax that would return a random index between indexes of equal maximums\n",
        "# very crucial since regular argmax would favor index with lower numerical values if their corresponding values are equal maximums\n",
        "  # in the beginning our game, we initialized the action values across our q-table to be all 0s\n",
        "  # argmax then would only choose index 0, that is, in our context, the action of going left\n",
        "  # since we can't go any further left when we are on the left boundary, choosing left regardless would bring us to the same state\n",
        "  # the game therefore would result in a unending loop unless epsilon greedy luckily chooses random action that bring us out of it and break the initial 0 tie of q-table\n",
        "def random_argmax(b):\n",
        "  \"\"\"\n",
        "  args\n",
        "    b: 1-dimensional array, a row of our q-table representing the action values of a single state\n",
        "  \"\"\"\n",
        "  return np.random.choice(np.where(b == b.max())[0])\n",
        "\n",
        "# train the agent on \"episodes\" amount of games in the environment with Monte Carlo, \n",
        "# return our trained policy, action values table, and dictionary storing cumulative reward/numbers of visits\n",
        "def run_MC(env, initial_policy, episodes=25000, epsilon=0.2, gamma=0.95):\n",
        "  \"\"\"\n",
        "  args\n",
        "    env: environment\n",
        "    initial_policy: a random initial dictionary storing states [keys] and corresponding actions [values]\n",
        "  kwargs\n",
        "    episodes: numbers of episodes we want to train our agent on, default to 25000\n",
        "    epsilon: greedy rate for exploring, default to 0.2\n",
        "    gamma: discounting rate for expected future return, default to 0.95\n",
        "  \"\"\"\n",
        "  # initialize a two dimensional np array storing state-action values Q(s,a) with numbers of states by numbers of actions (in our case 16 by 4) (row by column)\n",
        "  # commonly referred to as the q-table\n",
        "    # note that we will be solving only for action value functions since it allows us to update our policy based the each action's value\n",
        "  Q = np.zeros((env.observation_space.n, env.action_space.n))\n",
        "  # create a dictionary storing a list containing cumulative return AND the numbers of visits [values] for each state and action pair [key]\n",
        "  returns_Q = dict()\n",
        "  # set our policy to our passed-in initial policy\n",
        "  policy = initial_policy\n",
        "\n",
        "  # for each episode\n",
        "  for i in range(episodes):\n",
        "      # play and get the states_actions_rewards return\n",
        "      episode = play_episode(env, policy, epsilon, i)\n",
        "      # initialize the return of terminal state to be 0, by definition\n",
        "      G = 0\n",
        "      # loop through the states_actions_rewards triples in reverse order\n",
        "      for state, action, reward in reversed(episode):\n",
        "          # calculate the return\n",
        "          G = gamma*G + reward \n",
        "          # if state and action pair exists in our dictionary\n",
        "          if (state, action) in returns_Q:\n",
        "            # increment the cumulative return and numbers of visit\n",
        "            returns_Q[state, action][0] += G\n",
        "            returns_Q[state, action][1] += 1\n",
        "          else:\n",
        "            # create state action key pair\n",
        "            returns_Q[state, action] = [G, 1]\n",
        "          # update the q-table by taking the average of returns (cumulative returns divided by numbers of visits)\n",
        "          Q[state, action] = returns_Q[state, action][0] / returns_Q[state, action][1] \n",
        "          # update policy for the state by getting the index of the action with highest action value\n",
        "          policy[state] = random_argmax(Q[state, :])\n",
        "        \n",
        "  # get our final policy\n",
        "  for state in range(env.observation_space.n):\n",
        "    policy[state] = random_argmax(Q[state, :])\n",
        "\n",
        "  return policy, Q, returns_Q\n",
        "\n",
        "if __name__ == '__main__':\n",
        "  # create the FrozenLake environment with no slippery feature\n",
        "  env = gym.make('FrozenLake-v0', is_slippery = False)\n",
        "  # initialize a random policy (as a seed)\n",
        "  initial_policy = {0:1, 1:2, 2:0, 3:1, 4:2, 5:1, 6:1, 7:1, 8:2, 9:0, 10:1, 11:3, 12:2, 13:2, 14:3}\n",
        "  # train our agent on a 10000 episodes FrozenLake simulation using Monte Carlo with greedy and discounting rate of 0.2 and 0.95, respectively\n",
        "  policy, Q, returns_Q = run_MC(env, initial_policy, episodes=10000, epsilon=0.2, gamma=0.95)\n",
        "  print()\n",
        "  print(\"Final Policy:\")\n",
        "  # print the action to take at each state according to our finalized policy\n",
        "  for state in policy:\n",
        "    print(f'{state}: Go {actions[policy[state]]}')\n",
        "  print()\n",
        "  # print the FrozenLake environment and their corresponding state numbers to do mental checkings\n",
        "  print('0  1  2  3     S  F  F  F')\n",
        "  print('4  5  6  7     F  H  F  H')\n",
        "  print('8  9  10 11    F  F  F  H')\n",
        "  print('12 13 14 15    H  F  F  G')"
      ],
      "execution_count": null,
      "outputs": []
    },
    {
      "cell_type": "markdown",
      "metadata": {
        "id": "0R2Nn7PnhH_B",
        "colab_type": "text"
      },
      "source": [
        "**IV. Reflection**\n",
        "- By the end of 10000 episodes, if we follow the finalized policy from the starting state, we will be able to arrive at the goal state without falling into any holes\n",
        "  - Note that the final policy sometimes diverges from the path it chooses due to randomization, but regardless they should all lead to a safe path to our goal state\n",
        "\n",
        "- Problem/Disadvantage:\n",
        "  - Monte Carlo needs to wait for the termination of each episode in order to calculate for the value functions to conduct its policy evluation and improvement given that it needs to reach the terminal state to record all the states_actions_rewards pairs in order to calculate in reverse the returns $G$\n",
        "  - this means that Monte Carlo isn't a true \"online\" algorithm in a way it can't update while playing through an episode\n",
        "  - becomes problematic when an episode takes a long time to finish or that it never finishes\n",
        "    - though fortunately for FrozenLake the episode runtime is miniscule"
      ]
    },
    {
      "cell_type": "markdown",
      "metadata": {
        "id": "ke7Iw1p8YNHC",
        "colab_type": "text"
      },
      "source": [
        "## 5. Temporal Difference (TD) Learning with Q-Learning\n",
        "**I. Intro & Background**\n",
        "- While TD also learns from experience by collecting empirical data, in contrast to Monte Carlo, it is a online algorithm which means it can calculate and update values even when playing through an episode\n",
        "  - Therefore, while Monte Carlo needs to wait for an episode to finish in order to update, TD can update at each step of the episode\n",
        "- TD uses rewards as estimates for the value functions instead of needing to calculate the actual returns $G$\n",
        "  - fundamentally, it can iteratively improve its estimates based on existing estimates, a process known as bootstrapping\n",
        "\n",
        "**II. TD(0) & Q-Learning Intuition**\n",
        "- policy evaluation\n",
        "  - TD(0) is an algorithm in TD learning that calculates for the expected return ${V_\\pi(s)}$\n",
        "    - instead of using the average of the all actual returns like Monte Carlo in the calculation, TD(0) calculates for the average recursively using an alternative form of ${V(s)}$ $= V(s) + \\alpha[r + \\gamma V(s')-V(s)]$ by using an estimate expected return from the next state\n",
        "      - $\\alpha$: the learning rate, or the moving average, essentially controls how we weigh our new sample and old estimate to contribute to our new estimate\n",
        "        - 0.0 means ignoring new sample and stick to old estimate, 1.0 means only consider new sample and ignore old estimate\n",
        "      - now, instead of waiting for an entire episode to finish, we only need to wait for the next state to get $V(s')$ in order to update our $V$ for our current state\n",
        "\n",
        "- policy control\n",
        "  - Q-Learning is an algorithm used for solving action value functions for TD learning\n",
        "  - It follows the same pattern as TD(0) in which we will only need to know the estimate of action value function of next state in order to update our estimate of the action value function of our current state, following: $Q(s,a) = Q(s,a) + \\alpha[r + \\gamma max_a'Q(s', a') - Q(s, a)]$\n",
        "    - the inner term ${\\gamma max_{a'}Q(s', a')}$ gives the discounted maximum action value we can receive in our next state\n",
        "    - we are essentially looking ahead and evaluating the action value for choosing action $a$ on current state $s$ based on the maximum future action value we are expected to receive\n",
        "  - It is also known as an off-policy method as the algorithm does not always follows the current best policy, rather choose random actions at times\n",
        "    - though it tends to make episodes longer due to choosing suboptimal actions, it also explores more possible states, sometimes hideous ones, as a result\n",
        "      - we will see that we are going to implement epsilon greedy for this\n",
        "\n",
        "- additional readings for Temporal Difference Learning and Q-Learning\n",
        "  - [Barto Sutton Reinforcement Learning](https://www.andrew.cmu.edu/course/10-703/textbook/BartoSutton.pdf): Chapter 6, Page 119\n",
        "\n",
        "**III. Code in FrozenLake Environment**"
      ]
    },
    {
      "cell_type": "code",
      "metadata": {
        "id": "SSADnnX-t6js",
        "colab_type": "code",
        "colab": {}
      },
      "source": [
        "# importing OpenAI gym containing the FrozenLake environment we will use\n",
        "import gym\n",
        "# importing essential library for array processing\n",
        "import numpy as np\n",
        "\n",
        "# map a dictionary corresponding numbers to understandable actions for debugging uses\n",
        "actions = {\n",
        "    0 : 'Left',\n",
        "    1 : 'Down',\n",
        "    2 : 'Right',\n",
        "    3 : 'Up'\n",
        "}\n",
        "\n",
        "# tie breaking argmax, detailed explaination see MC code\n",
        "def random_argmax(b):\n",
        "  \"\"\"\n",
        "  args\n",
        "    b: 1-dimensional array, a row of our q-table representing the action values of a single state\n",
        "  \"\"\"\n",
        "  return np.random.choice(np.where(b == b.max())[0])\n",
        "\n",
        "# train the agent on \"episodes\" amount of games in the environment with Q-Learning\n",
        "def run_Q_Learning(env, initial_policy, episodes=25000, alpha=0.5, epsilon=0.2, gamma=0.95):\n",
        "    \"\"\"\n",
        "    args:\n",
        "        env: given environment\n",
        "        initial_policy: a chosen random policy given to the agent at the start\n",
        "    kwargs:\n",
        "        episodes: number of episodes used for training\n",
        "        alpha: learning rate for Q-learning\n",
        "        epsilon: exploration rate \n",
        "        gamma: discount rate\n",
        "    \"\"\"\n",
        "    # initialize a np array, also known as the q-table, storing state-action values Q(s,a) with size of states by size actions (in our case 16 by 4)\n",
        "    Q = np.zeros((env.observation_space.n,env.action_space.n))\n",
        "    # set our policy to initial policy\n",
        "    policy = initial_policy\n",
        "\n",
        "    for i in range(episodes):\n",
        "      # reset the environment and mark the start state\n",
        "      env.reset()\n",
        "      state = 0\n",
        "      for t in range(100):\n",
        "        # epsilon greedy policy\n",
        "        # draw a random float from 0 to 1, and if it is less than our epsilon\n",
        "        if np.random.uniform(0,1) < epsilon:\n",
        "          # choose random action based on our environment's action space\n",
        "          action = env.action_space.sample()\n",
        "        else:\n",
        "          # choose the action decided by our policy\n",
        "          action = policy[state]\n",
        "        # commit the action and get the returning new state, reward, boolean if we reached a terminal state, and debugging information\n",
        "        next_state, reward, done, info = env.step(action)\n",
        "        # update our q-table immediately after a step using Q-Learning (off-policy TD control) algorithm\n",
        "        Q[state, action] += alpha * (reward + gamma * np.max(Q[next_state, :]) - Q[state, action])\n",
        "        # check that if we reached a terminal state if so print out the how many steps it took, then break through the loop\n",
        "        if done:\n",
        "          print(f\"Episode {i} finished after {t+1} timesteps\")\n",
        "          break\n",
        "        # update our policy according to actions with the highest action values with tie-breaking argmax\n",
        "        policy[state] = random_argmax(Q[state, :])\n",
        "        # go to our next state\n",
        "        state = next_state\n",
        "        \n",
        "    # get our final policy\n",
        "    for state in range(env.observation_space.n):\n",
        "      policy[state] = random_argmax(Q[state, :])\n",
        "\n",
        "    return policy, Q\n",
        "\n",
        "if __name__ == '__main__':\n",
        "  # create the FrozenLake environment with no slippery feature\n",
        "  env = gym.make('FrozenLake-v0', is_slippery = False)\n",
        "  # initialize a random policy\n",
        "  initial_policy = {0:2, 1:3, 2:1, 3:0, 4:1, 5:0, 6:1, 7:1, 8:2, 9:0, 10:1, 11:2, 12:3, 13:2, 14:1}\n",
        "  # train our agent using Q-Learning on a 10000 episodes FrozenLake simulation with learning rate of 0.5, exploration rate of 0.2, and discounting rate of 0.95\n",
        "  policy, Q = run_Q_Learning(env, initial_policy, episodes=10000, alpha=0.5, epsilon=0.2, gamma=0.95)\n",
        "  print()\n",
        "  print(\"Final Policy:\")\n",
        "  # print the action to take at each state according to our finalized policy\n",
        "  for state in policy:\n",
        "    print(f'{state}: Go {actions[policy[state]]}')\n",
        "  print()\n",
        "  # print the FrozenLake environment and their corresponding state numbers to do mental checkings\n",
        "  print('0  1  2  3     S  F  F  F')\n",
        "  print('4  5  6  7     F  H  F  H')\n",
        "  print('8  9  10 11    F  F  F  H')\n",
        "  print('12 13 14 15    H  F  F  G')"
      ],
      "execution_count": null,
      "outputs": []
    },
    {
      "cell_type": "markdown",
      "metadata": {
        "id": "BSniog9Ki5wt",
        "colab_type": "text"
      },
      "source": [
        "**IV. Reflection**\n",
        "- Like MC, after 10000 episodes of training, we obtain a final policy that would help the agent to safely walk through the FrozenLake\n",
        "- One major difference, though, is we see that we can update our q-table immediately after taking an action instead of using the play_episode function in MC to have an entire episode finished before the calculation.\n",
        "  - Still, the power of Q-Learning is not demonstrated fully since each episode in FrozenLake, as we discussed, takes miniscule time to finish, but for games with much longer episode runtime, Q-Learning will function superiorly"
      ]
    },
    {
      "cell_type": "markdown",
      "metadata": {
        "id": "7fuzChcMeq_1",
        "colab_type": "text"
      },
      "source": [
        "## 6. Conclusion/Reflection\n",
        "- in the tutorial, we went over Reinforcement Learning at a glance. Following it, we looked into the classic problem of multi-armed bandits to study the explore-exploit tradeoff and saw applied algorithms of epsilon greedy and upper confidence bound in action, in code. We next looked at the markov decision processes framework that provides the foundation for more advanced algorithms. Then, we delved deeper into Monte Carlo and Temporal-Difference(TD) Learning with Q-Learning and at last implemented them both to train our agent to navigate safely in the FrozenLake environment\n",
        "- ultimately, while we did cover many of the fundamental theories and algorithms, they are only snippets in the grand field of Reinforcement Learning. There is so much to learn and understand about RL, math-wise and code-wise, topics like Approximation Methods, Deep Reinforcement Learnig with neural networks. At the same time, RL has so much more potentials than to solve a simple gridworld-like environment, as we saw in the intro section's applications\n",
        "- at the end, I want to thank you for reading through this tutorial. It is my first tutorial ever created. I really hope you learned and took away something from this. \n",
        "#Good Luck on your RL journey!\n",
        "—— Xiaocong (Bill) Yan"
      ]
    },
    {
      "cell_type": "markdown",
      "metadata": {
        "id": "7DEpy67VibIE",
        "colab_type": "text"
      },
      "source": [
        "\n",
        "## Work Referenced:\n",
        "- Mohammad Ashraf. 2018. Reinforcement Learning Demystified: Markov Decision Processes (Part 1). Medium. Retrieved 20 July 2020, from https://towardsdatascience.com/reinforcement-learning-demystified-markov-decision-processes-part-1-bf00dda41690\n",
        "- Mohammad Ashraf. 2018. Reinforcement Learning Demystified: Markov Decision Processes (Part 2). Medium. Retrieved 20 July 2020, from https://towardsdatascience.com/reinforcement-learning-demystified-markov-decision-processes-part-2-b209e8617c5a\n",
        "- Richard S. Sutton and Andrew G. Barto. 2018. Reinforcement Learning: An Introduction. A Bradford Book, Cambridge, MA, USA. Retrieved 20 July 2020, from http://www.andrew.cmu.edu/course/10-703/textbook/BartoSutton.pdf\n",
        "- Conor McDonald. Solving multiarmed bandits: A comparison of epsilon-greedy and Thompson sampling. (2018). Medium. Retrieved 20 July 2020, from https://towardsdatascience.com/solving-multiarmed-bandits-a-comparison-of-epsilon-greedy-and-thompson-sampling-d97167ca9a50"
      ]
    }
  ]
}