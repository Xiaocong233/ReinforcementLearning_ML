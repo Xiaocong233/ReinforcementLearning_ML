{
  "nbformat": 4,
  "nbformat_minor": 0,
  "metadata": {
    "colab": {
      "name": "RL_tutorial",
      "provenance": [],
      "collapsed_sections": [],
      "authorship_tag": "ABX9TyMLU2smOKbRgFV+BeCl1JPz",
      "include_colab_link": true
    },
    "kernelspec": {
      "name": "python3",
      "display_name": "Python 3"
    }
  },
  "cells": [
    {
      "cell_type": "markdown",
      "metadata": {
        "id": "view-in-github",
        "colab_type": "text"
      },
      "source": [
        "<a href=\"https://colab.research.google.com/github/Xiaocong233/ReinforcementLearning_ML/blob/master/RL_tutorial.ipynb\" target=\"_parent\"><img src=\"https://colab.research.google.com/assets/colab-badge.svg\" alt=\"Open In Colab\"/></a>"
      ]
    },
    {
      "cell_type": "markdown",
      "metadata": {
        "id": "m8uS_JAfWGOn",
        "colab_type": "text"
      },
      "source": [
        "# **Reinforcement Learning Tutorial in Python**\n",
        "###### Created by **Xiaocong Yan** for [StartOnAI](https://startonai.com/)\n",
        "---\n"
      ]
    },
    {
      "cell_type": "markdown",
      "metadata": {
        "id": "xA8EDDN0Xtlv",
        "colab_type": "text"
      },
      "source": [
        "## 1. Introduction to RL"
      ]
    },
    {
      "cell_type": "markdown",
      "metadata": {
        "id": "9JxN8ixlZRc1",
        "colab_type": "text"
      },
      "source": [
        "![alt text](https://lilianweng.github.io/lil-log/assets/images/RL_illustration.png)"
      ]
    },
    {
      "cell_type": "markdown",
      "metadata": {
        "id": "70m6nTsAaXFD",
        "colab_type": "text"
      },
      "source": [
        "- What is Reinforcement Learning?\n",
        "  - RL is a subfield in machine learning, it particularly focuses on training AI agents to behave in a certain way by learning directly from its surrounding environment\n",
        "  - Essentially, we are training the agent to choose the optimal action (`a`) given a state (`s`) from the environment that will maxmimizes an engineered reward (`r`)"
      ]
    },
    {
      "cell_type": "markdown",
      "metadata": {
        "id": "cX5hf1YrgCzC",
        "colab_type": "text"
      },
      "source": [
        "- RL Applications\n",
        "  - gameplaying AI\n",
        "    - AlphaGo\n",
        "\n",
        "    <img src=\"https://cdn.geekwire.com/wp-content/uploads/2016/03/160312-go-630x353.jpg\" alt=\"alt text\" width=\"500\" height=\"300\">\n",
        "\n",
        "    - AlphaStar\n",
        "\n",
        "    <img src=\"https://www.version2.dk/sites/v2/files/topillustration/2019/01/alphastarscreenshot.png\" alt=\"alt text\" width=\"600\" height=\"337\">\n",
        "  \n",
        "  - agent in simulation learning to walk\n",
        "  \n",
        "  <img src=\"https://nav74neet.github.io/media/blog/walking.png\" alt=\"alt text\"  width='600' height='250'>\n",
        "\n",
        "  - robots learning to walk\n",
        "\n",
        "    <img src=\"https://www.researchgate.net/profile/Pieter_Jonker/publication/236015074/figure/fig1/AS:299857928572950@1448503109999/a-LEO-a-2D-walking-robot-suitable-for-on-line-Reinforcement-Learning-8-b-Simplest.png\" alt=\"alt text\"  width='340' height='255'>"
      ]
    },
    {
      "cell_type": "markdown",
      "metadata": {
        "id": "MiG2yaOoYwAE",
        "colab_type": "text"
      },
      "source": [
        "## 2. Explore-exploit dilemma and Multi-Armed Bandit Problem"
      ]
    },
    {
      "cell_type": "markdown",
      "metadata": {
        "id": "6nUdqjmn4fOf",
        "colab_type": "text"
      },
      "source": [
        "- A fundamental intuition of RL lies within the balancing of explore and exploit\n",
        "- Example: casino multi-armed bandits (slot machines)\n",
        "  ![alt text](https://miro.medium.com/max/1250/1*7axVBpiVF4VQCxxP1UNcnw.png)\n",
        "    - suppose we have three bandits with their own unique probablities of winning the jackpot\n",
        "      - in this case, the agent is learning from the environment \"casino\" containing all the bandits by repeatedly taking action and playing, along the way figuring out which bandit is the best to play\n",
        "      - at start, the agent has no ideas what the probabilities are\n",
        "      - the agent then \"explores\" by playing to find the bandit with the highest winning rate as quickly as possible such that it can then \"exploit\" it by playing solely on it"
      ]
    },
    {
      "cell_type": "markdown",
      "metadata": {
        "id": "9Jr07JV7C95k",
        "colab_type": "text"
      },
      "source": [
        "### 2A. Greedy Algorithm\n",
        "  - drawing upon an updating sample proportion `p_hat` of each bandit (current number of wins / times played on the bandit), a basic greedy algorithm, as its name suggests, will only choose the bandit with the highest current sample proportion\n",
        "  - problem: `p_hat` may be drastically different than the real probability, especially in the beginning where we don't have many samples or times played yet\n",
        "    - in fact, if we draw two bandits and one return a win and the other a loss, updating `p_hat` will result in 1 for the victorious bandit and 0 for the losing bandit.\n",
        "      - we will never again choose the losing bandit ever again using greedy algorithm since no matter how many times we update the probability for the victorious bandit, it will never reach below 0\n",
        "      - practically, we will be missing out on exploring the losing bandit at all and choose to solely exploit the winning bandit, when, in reality, the unlucky losing bandit may have a much higher real winning probability"
      ]
    },
    {
      "cell_type": "markdown",
      "metadata": {
        "id": "mMz8HXo5HKtI",
        "colab_type": "text"
      },
      "source": [
        "### 2B. Epsilon Greedy Algorithm\n",
        "  - solution to the greedy problem: adding a chance in each draw, parameterized by variable `epsilon`, where we will choose randomly from all the existing bandits, regardless of their sample proportions\n",
        "  - thus it is created a fundamental algorithm behind RL"
      ]
    },
    {
      "cell_type": "code",
      "metadata": {
        "id": "LYuMPoL-LJdv",
        "colab_type": "code",
        "colab": {
          "base_uri": "https://localhost:8080/",
          "height": 976
        },
        "outputId": "112f193b-dd73-4872-d80b-2875f6657702"
      },
      "source": [
        "# importing essential libraries for graphing and array processing\n",
        "import matplotlib.pyplot as plt\n",
        "import numpy as np\n",
        "\n",
        "# creating the blueprint for a bandit slot machine\n",
        "class Bandit:\n",
        "  def __init__(self, p):\n",
        "    self.p = p # the winning rate\n",
        "    self.p_hat = 0. # sample proportion, or the estimation for the winning rate, intialized to 0\n",
        "    self.n = 0. # number of samples collected on this bandit\n",
        "\n",
        "  def pull(self):\n",
        "    # draw the virtual bandit with a random probability p and check if won according to the winning rate\n",
        "    # return 1 if won, 0 if lost\n",
        "    return np.random.random() < self.p\n",
        "\n",
        "  def update(self, x):\n",
        "    # increment numbers of samples collected\n",
        "    self.n += 1.\n",
        "    # calculate the new p hat from the previous p hat and the newly obtained value (0 or 1)\n",
        "    self.p_hat = ((self.n - 1) * self.p_hat + x) / self.n\n",
        "\n",
        "def run_simulation(bandits_probs_list, epsilon, N):\n",
        "  # bandits_probs_list: a list containing the win-rates of bandits that we want to create\n",
        "  # epsilon: probability of random selection\n",
        "  # n: numbers of trials, times we pull from bandits\n",
        "\n",
        "  # create a list of bandit objects according to their probabilities of win rate\n",
        "  bandits = [Bandit(p) for p in bandits_probs_list]\n",
        "  \n",
        "  # initialize variables\n",
        "  rewards = np.zeros(N)\n",
        "  times_explored = 0\n",
        "  times_exploited = 0\n",
        "  times_optimal_chosen = 0\n",
        "\n",
        "  # selecting the optimal bandit based the highest true probability\n",
        "  optimal_bandit = np.argmax([bandit.p for bandit in bandits])\n",
        "  # print out the true optimal bandit number\n",
        "  print('optimal bandit:', optimal_bandit + 1) # +1 because optimal_bandit is 0 indexed\n",
        "\n",
        "  # use epsilon_greedy to select the next bandit\n",
        "  for i in range(N):\n",
        "    # if probability drawn is smaller than epsilon, randomly select a bandit\n",
        "    if np.random.random() < epsilon:\n",
        "      times_explored += 1\n",
        "      bandit = np.random.randint(len(bandits))\n",
        "    # else selecting the bandit with the highest p_hat\n",
        "    else:\n",
        "      times_exploited += 1\n",
        "      bandit = np.argmax([bandit.p_hat for bandit in bandits])\n",
        "                         \n",
        "    # check if the bandit chosen is actually the optimal bandit\n",
        "    if bandit == optimal_bandit:\n",
        "      # update the correct action count\n",
        "      times_optimal_chosen += 1\n",
        "\n",
        "    # pull the arm for the bandit selected\n",
        "    x = bandits[bandit].pull()\n",
        "\n",
        "    # update rewards logs and sample proportion estimates accordingly\n",
        "    rewards[i] = x\n",
        "    bandits[bandit].update(x)     \n",
        "  \n",
        "  # print proportion estimates for each bandit\n",
        "  for i, bandit in enumerate(bandits):\n",
        "    print(f'bandit{i + 1} estimate win-rate: {round(bandit.p_hat, 3)} | true win_rate: {bandit.p}')\n",
        "\n",
        "  # print total reward\n",
        "  print()\n",
        "  print('total reward:', rewards.sum())\n",
        "  print('overall win-rate:', rewards.sum() / N)\n",
        "  print('explore count:', times_explored)\n",
        "  print('exploit count:', times_exploited)\n",
        "  print('optimal selection rate:', times_optimal_chosen / N)\n",
        "  print(\"num times selected each bandit:\", [bandit.n for bandit in bandits])\n",
        "\n",
        "  # plot the results\n",
        "  cumulative_rewards = np.cumsum(rewards)\n",
        "  win_rates = cumulative_rewards / (np.arange(N) + 1)\n",
        "  plt.plot(win_rates)\n",
        "  plt.plot(np.ones(N) * np.max(bandits_probs_list))\n",
        "  plt.title('cumulative win-rate over time')\n",
        "  plt.xlabel('number of trials')\n",
        "  plt.ylabel('win-rate')\n",
        "  plt.show()\n",
        "\n",
        "if __name__ == '__main__':\n",
        "  # simulate two multi-armed bandit problem with 4 machines with win-rates 0, 0.25, 0.5, 0.75\n",
        "  # Epsilon default to 0.1, thus 10% of random selection chance\n",
        "  # N defaulted to 10000 trials for first simulation, 100000 for the second\n",
        "  run_simulation([0, 0.25, 0.5, 0.75], 0.1, 10000)\n",
        "  run_simulation([0, 0.25, 0.5, 0.75], 0.1, 100000)"
      ],
      "execution_count": 34,
      "outputs": [
        {
          "output_type": "stream",
          "text": [
            "optimal bandit: 4\n",
            "bandit1 estimate win-rate: 0.0 | true win_rate: 0\n",
            "bandit2 estimate win-rate: 0.194 | true win_rate: 0.25\n",
            "bandit3 estimate win-rate: 0.521 | true win_rate: 0.5\n",
            "bandit4 estimate win-rate: 0.75 | true win_rate: 0.75\n",
            "\n",
            "total reward: 7119.0\n",
            "overall win-rate: 0.7119\n",
            "explore count: 997\n",
            "exploit count: 9003\n",
            "optimal selection rate: 0.923\n",
            "num times selected each bandit: [243.0, 247.0, 280.0, 9230.0]\n"
          ],
          "name": "stdout"
        },
        {
          "output_type": "display_data",
          "data": {
            "image/png": "[encoded data removed]",
            "text/plain": [
              "<Figure size 432x288 with 1 Axes>"
            ]
          },
          "metadata": {
            "tags": [],
            "needs_background": "light"
          }
        },
        {
          "output_type": "stream",
          "text": [
            "optimal bandit: 4\n",
            "bandit1 estimate win-rate: 0.0 | true win_rate: 0\n",
            "bandit2 estimate win-rate: 0.243 | true win_rate: 0.25\n",
            "bandit3 estimate win-rate: 0.483 | true win_rate: 0.5\n",
            "bandit4 estimate win-rate: 0.75 | true win_rate: 0.75\n",
            "\n",
            "total reward: 71203.0\n",
            "overall win-rate: 0.71203\n",
            "explore count: 9914\n",
            "exploit count: 90086\n",
            "optimal selection rate: 0.92541\n",
            "num times selected each bandit: [2513.0, 2426.0, 2520.0, 92541.0]\n"
          ],
          "name": "stdout"
        },
        {
          "output_type": "display_data",
          "data": {
            "image/png": "[encoded data removed]",
            "text/plain": [
              "<Figure size 432x288 with 1 Axes>"
            ]
          },
          "metadata": {
            "tags": [],
            "needs_background": "light"
          }
        }
      ]
    },
    {
      "cell_type": "markdown",
      "metadata": {
        "id": "LN0YQFNB2swV",
        "colab_type": "text"
      },
      "source": [
        "  - problem: the chance of selecting a random bandit is fixed throughout all trials\n",
        "    - as time progresses and we collect more and more samples, we should be more confident about the sample proportion estimating the real proportion, therefore we should spend more time exploiting rather than exploring.\n",
        "  - solution 1: decaying epsilon\n",
        "    - we can decrease the `epsilon` throughout the trials by setting it inversely proportional to trials `n` or time, parametrized by a separate variable `t` (`epsilon / t`).\n",
        "      - both would function the same way in which we would do random selection less and less as we collect more samples.\n",
        "  - solution 2: probability distribution algorithms\n",
        "    - Upper Confidence Bound (UCB)\n",
        "    - Thompson Sampling\n",
        "\n"
      ]
    },
    {
      "cell_type": "markdown",
      "metadata": {
        "id": "7F29CMden80L",
        "colab_type": "text"
      },
      "source": [
        "### 2C. Upper Confidence Bound (UCB) Algorithm\n",
        "**I. Background**\n",
        "\n",
        "- during the explanation of the problem in Epsilon Greedy, the word \"confidence\" was referred in the intuitive sense\n",
        "  - in fact, this confidence can be modeled mathetically as the \"confidence interval\", in this case the probabilistic deviation of the true proportion around our sample mean which equals to\n",
        "  ![alt text](https://mat117.wisconsin.edu/wp-content/uploads/2014/12/section8-7.png)\n",
        "    - p_hat = sample mean\n",
        "    - z = how many standard deviations away on a normal distribution\n",
        "    - n = numbers of samples taken\n",
        "\n",
        "    ![alt text](https://qph.fs.quoracdn.net/main-qimg-fb825a5584d571ed78ef869a50793a83.webp)\n",
        "  \n",
        "  - as we take more samples, we see the curve that models the probability distribution tightens\n",
        "\n",
        "    ![alt text](https://demonstrations.wolfram.com/DistributionOfNormalMeansWithDifferentSampleSizes/img/popup_3.png)\n",
        "    - mathematically, since n is in the denominator, as it increases, our overall confidence interval size decreases\n",
        "    - there can also be seen a larger under the curve covering around the sample mean (or proportion)\n",
        "      - now, at the same confidence level, we will have a smaller confidence interval knowing the true proportion is closer to our sample proportion\n",
        "\n",
        "**II. UCB Intuition**\n",
        " ![alt text](https://media.geeksforgeeks.org/wp-content/uploads/20200126022459/Screenshot-2020-01-26-at-2.24.37-AM.png)\n",
        " - UCB's confidence interval for each bandit, similar to a traditional confidence interval, is modeled by the addition of a sample mean estimate and an error: Xⱼ +- error\n",
        "  - Xⱼ = sample mean of choosing bandit j\n",
        "  - error = `sqrt(c * ln(N)/nⱼ)`, c is a constant parameter controlling the size of the bound, `N` is number of trails taken, `nⱼ` is the number of times bandit j has been selected\n",
        "    - intuitively, the error term will gradually decrease with more samples collected on one bandit as `nⱼ` increases in the denominator, representing the agent becoming more confident of the sample proportion estimate\n",
        "    - however, as trial number increases and a bandit has not been selected very often such that `nⱼ` is low relative to trials `N`, the error will become high, since in UCB the agent will opt for the bandit with the highest upperbound, it is more likely for the bandit with a high error to be selected to explore\n",
        "      - interestingly, since `N` is inside of a log function, it gradually becomes less weighted compared `nⱼ`, the error term thus will gradually shrink down to zero with more we explore each bandit\n",
        "\n",
        "**III. Code**\n",
        "    \n"
      ]
    },
    {
      "cell_type": "code",
      "metadata": {
        "id": "wIZGkPE7gW0e",
        "colab_type": "code",
        "colab": {
          "base_uri": "https://localhost:8080/",
          "height": 816
        },
        "outputId": "a0ce4327-d09f-446e-d4da-2aa0d843cf11"
      },
      "source": [
        "# importing essential libraries for graphing and array processing\n",
        "import numpy as np\n",
        "import matplotlib.pyplot as plt\n",
        "\n",
        "# creating the blueprint for a bandit slot machine\n",
        "class Bandit:\n",
        "  def __init__(self, p):\n",
        "    self.p = p # the winning rate\n",
        "    self.p_hat = 0. # sample proportion, or the estimation for the winning rate, intialized to 0\n",
        "    self.n = 0. # number of samples collected on this bandit\n",
        "\n",
        "  def pull(self):\n",
        "    # draw the virtual bandit with a random probability p and check if won according to the winning rate\n",
        "    # return 1 if won, 0 if lost\n",
        "    return np.random.random() < self.p\n",
        "\n",
        "  def update(self, x):\n",
        "    # increment numbers of samples collected\n",
        "    self.n += 1.\n",
        "    # calculate the new p hat from the previous p hat and the newly obtained value (0 or 1)\n",
        "    self.p_hat = ((self.n - 1) * self.p_hat + x) / self.n\n",
        "\n",
        "def ucb(X, N, n):\n",
        "  # return the upper bound of bandit\n",
        "    # X: sample proportion estimate of this bandit's win-rate\n",
        "    # N: total numbers of trials so far\n",
        "    # n: total numbers of time this bandit has been selected\n",
        "  return X + np.sqrt(2 * np.log(N) / n)\n",
        "\n",
        "\n",
        "def run_simulation(bandits_probs_list, epsilon, trials):\n",
        "  # bandits_probs_list: a list \n",
        "  # epsilon: probability of random selection\n",
        "  # trials: numbers of trials, times we pull from bandits\n",
        "\n",
        "  # create a list of bandit objects according to their probabilities of win rate\n",
        "  bandits = [Bandit(p) for p in bandits_probs_list]\n",
        "  \n",
        "  # initialize variables\n",
        "  rewards = np.zeros(trials)\n",
        "  N = 0\n",
        "\n",
        "  # beginning by playing each bandit once to avoid 0/0\n",
        "  for bandit in bandits:\n",
        "    x = bandit.pull()\n",
        "    bandit.update(x)\n",
        "    N += 1\n",
        "  \n",
        "  # repeat for \"trials\" times\n",
        "  for i in range(trials):\n",
        "    # get the index of the bandit with the highest upper confidence bound\n",
        "    bandit_index = np.argmax([ucb(bandit.p_hat, N, bandit.n) for bandit in bandits])\n",
        "\n",
        "    # pull the bandit and update the sample proportion according to its reward, increment trials taken\n",
        "    x = bandits[bandit_index].pull()\n",
        "    bandits[bandit_index].update(x)\n",
        "    N += 1\n",
        "\n",
        "    # logging the reward for trial i\n",
        "    rewards[i] = x\n",
        "\n",
        "   # plot the results\n",
        "  cumulative_rewards = np.cumsum(rewards)\n",
        "  win_rates = cumulative_rewards / (np.arange(trials) + 1)\n",
        "  plt.plot(win_rates)\n",
        "  plt.plot(np.ones(trials) * np.max(bandits_probs_list))\n",
        "  plt.xscale('log')\n",
        "  plt.title('cumulative win-rate over time')\n",
        "  plt.xlabel('number of trials')\n",
        "  plt.ylabel('win-rate')\n",
        "  plt.show()\n",
        "\n",
        "  # print proportion estimates for each bandit\n",
        "  for i, bandit in enumerate(bandits):\n",
        "    print(f'bandit{i + 1} estimate win-rate: {round(bandit.p_hat, 3)} | true win_rate: {bandit.p}')\n",
        "\n",
        "  print(\"total reward earned:\", rewards.sum())\n",
        "  print(\"overall win rate:\", rewards.sum() / trials)\n",
        "  print(\"num times selected each bandit:\", [bandit.n for bandit in bandits])\n",
        "\n",
        "if __name__ == '__main__':\n",
        "  # simulate two multi-armed bandit problem with 4 machines with win-rates 0, 0.25, 0.5, 0.75\n",
        "  # Epsilon default to 0.1, thus 10% of random selection chance\n",
        "  # N defaulted to 10000 trials for first simulation, 100000 for the second\n",
        "  run_simulation([0, 0.25, 0.5, 0.75], 0.1, 10000)\n",
        "  run_simulation([0, 0.25, 0.5, 0.75], 0.1, 100000)"
      ],
      "execution_count": 35,
      "outputs": [
        {
          "output_type": "display_data",
          "data": {
            "image/png": "[encoded data removed]",
            "text/plain": [
              "<Figure size 432x288 with 1 Axes>"
            ]
          },
          "metadata": {
            "tags": [],
            "needs_background": "light"
          }
        },
        {
          "output_type": "stream",
          "text": [
            "bandit1 estimate win-rate: 0.0 | true win_rate: 0\n",
            "bandit2 estimate win-rate: 0.25 | true win_rate: 0.25\n",
            "bandit3 estimate win-rate: 0.514 | true win_rate: 0.5\n",
            "bandit4 estimate win-rate: 0.744 | true win_rate: 0.75\n",
            "total reward earned: 7336.0\n",
            "overall win rate: 0.7336\n",
            "num times selected each bandit: [30.0, 64.0, 247.0, 9663.0]\n"
          ],
          "name": "stdout"
        },
        {
          "output_type": "display_data",
          "data": {
            "image/png": "[encoded data removed]",
            "text/plain": [
              "<Figure size 432x288 with 1 Axes>"
            ]
          },
          "metadata": {
            "tags": [],
            "needs_background": "light"
          }
        },
        {
          "output_type": "stream",
          "text": [
            "bandit1 estimate win-rate: 0.0 | true win_rate: 0\n",
            "bandit2 estimate win-rate: 0.179 | true win_rate: 0.25\n",
            "bandit3 estimate win-rate: 0.48 | true win_rate: 0.5\n",
            "bandit4 estimate win-rate: 0.752 | true win_rate: 0.75\n",
            "total reward earned: 75022.0\n",
            "overall win rate: 0.75022\n",
            "num times selected each bandit: [40.0, 67.0, 281.0, 99616.0]\n"
          ],
          "name": "stdout"
        }
      ]
    },
    {
      "cell_type": "markdown",
      "metadata": {
        "id": "iO6DabZ8nIy8",
        "colab_type": "text"
      },
      "source": [
        "**IV. Reflection**\n",
        "- Compared to Epsilon Greedy, we see the agent's overall win-rate on UCB approaches the probability of winning on the optimal bandit, representing that the agent consolidates its selection choice down to the optimal bandit as it becomes more confident of its sample proportion estimate. There is also more times exploiting the optimal machine\n",
        "  - Thus UCB is definitely superior when performing higher numbers of trials"
      ]
    },
    {
      "cell_type": "markdown",
      "metadata": {
        "id": "CgP8pY3lYAkR",
        "colab_type": "text"
      },
      "source": [
        "## 3. Markov Decision Processes\n",
        "- to be continued"
      ]
    },
    {
      "cell_type": "markdown",
      "metadata": {
        "id": "50sila0zYFB9",
        "colab_type": "text"
      },
      "source": [
        "## 4. Monte Carlo Algorithm\n",
        "- to be continued"
      ]
    },
    {
      "cell_type": "markdown",
      "metadata": {
        "id": "ke7Iw1p8YNHC",
        "colab_type": "text"
      },
      "source": [
        "## 5. Q-Learning\n",
        "- to be continued"
      ]
    },
    {
      "cell_type": "markdown",
      "metadata": {
        "id": "C-qJBTOpXM7u",
        "colab_type": "text"
      },
      "source": [
        "## Sources:\n",
        "- to be added"
      ]
    }
  ]
}