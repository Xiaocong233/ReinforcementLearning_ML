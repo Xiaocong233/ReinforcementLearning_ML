{
  "nbformat": 4,
  "nbformat_minor": 0,
  "metadata": {
    "colab": {
      "name": "RL_tutorial_StartOnAI",
      "provenance": [],
      "collapsed_sections": [],
      "include_colab_link": true
    },
    "kernelspec": {
      "name": "python3",
      "display_name": "Python 3"
    }
  },
  "cells": [
    {
      "cell_type": "markdown",
      "metadata": {
        "id": "view-in-github",
        "colab_type": "text"
      },
      "source": [
        "<a href=\"https://colab.research.google.com/github/Xiaocong233/ReinforcementLearning_ML/blob/master/RL_tutorial.ipynb\" target=\"_parent\"><img src=\"https://colab.research.google.com/assets/colab-badge.svg\" alt=\"Open In Colab\"/></a>"
      ]
    },
    {
      "cell_type": "markdown",
      "metadata": {
        "id": "m8uS_JAfWGOn",
        "colab_type": "text"
      },
      "source": [
        "# **Reinforcement Learning Tutorial in Python**\n",
        "###### Created by **Xiaocong (Bill) Yan** for [StartOnAI](https://startonai.com/)\n",
        "---\n"
      ]
    },
    {
      "cell_type": "markdown",
      "metadata": {
        "id": "xA8EDDN0Xtlv",
        "colab_type": "text"
      },
      "source": [
        "## 1. Introduction to RL"
      ]
    },
    {
      "cell_type": "markdown",
      "metadata": {
        "id": "9JxN8ixlZRc1",
        "colab_type": "text"
      },
      "source": [
        "![](https://lilianweng.github.io/lil-log/assets/images/RL_illustration.png)\n",
        "\n",
        "Sources: [A (Long) Peek into Reinforcement Learning by Lilian Weng](https://lilianweng.github.io/lil-log/2018/02/19/a-long-peek-into-reinforcement-learning.html)"
      ]
    },
    {
      "cell_type": "markdown",
      "metadata": {
        "id": "70m6nTsAaXFD",
        "colab_type": "text"
      },
      "source": [
        "- What is Reinforcement Learning?\n",
        "  - RL is a subfield in machine learning, it particularly focuses on training AI agents to behave in a certain way by learning directly from its surrounding environment\n",
        "  - Essentially, we are training the agent to choose the optimal action (${a}$) given any state (${s}$) from the environment that will maxmimizes an engineered reward (${r}$)"
      ]
    },
    {
      "cell_type": "markdown",
      "metadata": {
        "id": "cX5hf1YrgCzC",
        "colab_type": "text"
      },
      "source": [
        "- RL Applications\n",
        "  - gameplaying AI\n",
        "    - AlphaGo\n",
        "    <img src=\"https://cdn.geekwire.com/wp-content/uploads/2016/03/160312-go-630x353.jpg\" alt=\"alt text\" width=\"500\" height=\"300\">\n",
        "\n",
        "    - AlphaStar\n",
        "    <img src=\"https://www.version2.dk/sites/v2/files/topillustration/2019/01/alphastarscreenshot.png\" alt=\"alt text\" width=\"600\" height=\"337\">\n",
        "  \n",
        "  - agent in simulation learning to walk\n",
        "  <img src=\"https://nav74neet.github.io/media/blog/walking.png\" alt=\"alt text\"  width='600' height='250'>\n",
        "\n",
        "  - robots learning to walk\n",
        "  \n",
        "    <img src=\"https://www.researchgate.net/profile/Pieter_Jonker/publication/236015074/figure/fig1/AS:299857928572950@1448503109999/a-LEO-a-2D-walking-robot-suitable-for-on-line-Reinforcement-Learning-8-b-Simplest.png\" alt=\"alt text\"  width='340' height='255'>"
      ]
    },
    {
      "cell_type": "markdown",
      "metadata": {
        "id": "MiG2yaOoYwAE",
        "colab_type": "text"
      },
      "source": [
        "## 2. Explore-Exploit and Multi-Armed Bandit Problem"
      ]
    },
    {
      "cell_type": "markdown",
      "metadata": {
        "id": "6nUdqjmn4fOf",
        "colab_type": "text"
      },
      "source": [
        "- A fundamental intuition of RL lies within the balancing of explore and exploit\n",
        "- Example: casino multi-armed bandits (slot machines)\n",
        "<img src=\"https://miro.medium.com/max/1250/1*7axVBpiVF4VQCxxP1UNcnw.png\" alt=\"alt text\"  width='743' height='280'>\n",
        "\n",
        "  Sources: [The Multi-Armed Bandit — to explore or exploit?](https://medium.com/10x-curiosity/the-multi-armed-bandit-to-explore-or-exploit-88556cb67c1c)\n",
        "\n",
        "  - suppose we have three bandits with their own unique probablities of winning the jackpot\n",
        "    - in this case, the agent is learning from the environment \"casino\" containing the three bandits by repeatedly taking action and playing, along the way figuring out which bandit is the best to play\n",
        "      - at start, the agent has no ideas what the probabilities are\n",
        "      - the agent then \"explores\" by playing to find the bandit with the highest winning rate as quickly as possible such that it can then \"exploit\" it by playing solely on it"
      ]
    },
    {
      "cell_type": "markdown",
      "metadata": {
        "id": "9Jr07JV7C95k",
        "colab_type": "text"
      },
      "source": [
        "### 2A. Greedy Algorithm\n",
        "  - drawing upon an updating sample proportion estimate ${\\hat{p}}$ of each bandit (current number of wins / times played on the bandit), a basic greedy algorithm, as its name suggests, will only choose the bandit with the highest current sample proportion\n",
        "  - problem: ${\\hat{p}}$ may be drastically different than the real probability ${p}$, especially in the beginning where we don't have many samples or times played yet\n",
        "    - in fact, in the beginning if we draw two bandits and one return a win and the other a loss, updating ${\\hat{p}}$ will result in 1 for the victorious bandit and 0 for the losing bandit.\n",
        "      - we will never again choose the losing bandit ever again using greedy algorithm since no matter how many times we update the probability for the victorious bandit, it will never reach below 0\n",
        "      - practically, we will be missing out on exploring the losing bandit at all and choose to solely exploit the winning bandit, when, in reality, the unlucky losing bandit may have a much higher real winning probability"
      ]
    },
    {
      "cell_type": "markdown",
      "metadata": {
        "id": "mMz8HXo5HKtI",
        "colab_type": "text"
      },
      "source": [
        "### 2B. Epsilon Greedy Algorithm\n",
        "  - solution to the greedy problem: adding a chance in each draw, parameterized by variable ${epsilon}$, where we will choose randomly from all the existing bandits, regardless of their sample proportions\n",
        "  - thus it is created a fundamental algorithm behind RL"
      ]
    },
    {
      "cell_type": "code",
      "metadata": {
        "id": "LYuMPoL-LJdv",
        "colab_type": "code",
        "colab": {
          "base_uri": "https://localhost:8080/",
          "height": 976
        },
        "outputId": "112f193b-dd73-4872-d80b-2875f6657702"
      },
      "source": [
        "# importing essential libraries for graphing and array processing\n",
        "import matplotlib.pyplot as plt\n",
        "import numpy as np\n",
        "\n",
        "# creating the blueprint for a bandit slot machine\n",
        "class Bandit:\n",
        "  def __init__(self, p):\n",
        "    self.p = p # the winning rate\n",
        "    self.p_hat = 0. # sample proportion, or the estimation for the winning rate, intialized to 0\n",
        "    self.n = 0. # number of samples collected on this bandit\n",
        "\n",
        "  def pull(self):\n",
        "    # draw the virtual bandit with a random probability p and check if won according to the winning rate\n",
        "    # return 1 if won, 0 if lost\n",
        "    return np.random.random() < self.p\n",
        "\n",
        "  def update(self, x):\n",
        "    # increment numbers of samples collected\n",
        "    self.n += 1.\n",
        "    # calculate the new p hat from the previous p hat and the newly obtained value (0 or 1)\n",
        "    self.p_hat = ((self.n - 1) * self.p_hat + x) / self.n\n",
        "\n",
        "def run_simulation(bandits_probs_list, epsilon, N):\n",
        "  # bandits_probs_list: a list containing the win-rates of bandits that we want to create\n",
        "  # epsilon: probability of random selection\n",
        "  # n: numbers of trials, times we pull from bandits\n",
        "\n",
        "  # create a list of bandit objects according to their probabilities of win rate\n",
        "  bandits = [Bandit(p) for p in bandits_probs_list]\n",
        "  \n",
        "  # initialize variables\n",
        "  rewards = np.zeros(N)\n",
        "  times_explored = 0\n",
        "  times_exploited = 0\n",
        "  times_optimal_chosen = 0\n",
        "\n",
        "  # selecting the optimal bandit based the highest true probability\n",
        "  optimal_bandit = np.argmax([bandit.p for bandit in bandits])\n",
        "  # print out the true optimal bandit number\n",
        "  print('optimal bandit:', optimal_bandit + 1) # +1 because optimal_bandit is 0 indexed\n",
        "\n",
        "  # use epsilon_greedy to select the next bandit\n",
        "  for i in range(N):\n",
        "    # if probability drawn is smaller than epsilon, randomly select a bandit\n",
        "    if np.random.random() < epsilon:\n",
        "      times_explored += 1\n",
        "      bandit = np.random.randint(len(bandits))\n",
        "    # else selecting the bandit with the highest p_hat\n",
        "    else:\n",
        "      times_exploited += 1\n",
        "      bandit = np.argmax([bandit.p_hat for bandit in bandits])\n",
        "                         \n",
        "    # check if the bandit chosen is actually the optimal bandit\n",
        "    if bandit == optimal_bandit:\n",
        "      # update the correct action count\n",
        "      times_optimal_chosen += 1\n",
        "\n",
        "    # pull the arm for the bandit selected\n",
        "    x = bandits[bandit].pull()\n",
        "\n",
        "    # update rewards logs and sample proportion estimates accordingly\n",
        "    rewards[i] = x\n",
        "    bandits[bandit].update(x)     \n",
        "  \n",
        "  # print proportion estimates for each bandit\n",
        "  for i, bandit in enumerate(bandits):\n",
        "    print(f'bandit{i + 1} estimate win-rate: {round(bandit.p_hat, 3)} | true win_rate: {bandit.p}')\n",
        "\n",
        "  # print total reward\n",
        "  print()\n",
        "  print('total reward:', rewards.sum())\n",
        "  print('overall win-rate:', rewards.sum() / N)\n",
        "  print('explore count:', times_explored)\n",
        "  print('exploit count:', times_exploited)\n",
        "  print('optimal selection rate:', times_optimal_chosen / N)\n",
        "  print(\"num times selected each bandit:\", [bandit.n for bandit in bandits])\n",
        "\n",
        "  # plot the results\n",
        "  cumulative_rewards = np.cumsum(rewards)\n",
        "  win_rates = cumulative_rewards / (np.arange(N) + 1)\n",
        "  plt.plot(win_rates)\n",
        "  plt.plot(np.ones(N) * np.max(bandits_probs_list))\n",
        "  plt.title('cumulative win-rate over time')\n",
        "  plt.xlabel('number of trials')\n",
        "  plt.ylabel('win-rate')\n",
        "  plt.show()\n",
        "\n",
        "if __name__ == '__main__':\n",
        "  # simulate two multi-armed bandit problem with 4 machines with win-rates 0, 0.25, 0.5, 0.75\n",
        "  # Epsilon default to 0.1, thus 10% of random selection chance\n",
        "  # N defaulted to 10000 trials for first simulation, 100000 for the second\n",
        "  run_simulation([0, 0.25, 0.5, 0.75], 0.1, 10000)\n",
        "  run_simulation([0, 0.25, 0.5, 0.75], 0.1, 100000)"
      ],
      "execution_count": null,
      "outputs": [
        {
          "output_type": "stream",
          "text": [
            "optimal bandit: 4\n",
            "bandit1 estimate win-rate: 0.0 | true win_rate: 0\n",
            "bandit2 estimate win-rate: 0.194 | true win_rate: 0.25\n",
            "bandit3 estimate win-rate: 0.521 | true win_rate: 0.5\n",
            "bandit4 estimate win-rate: 0.75 | true win_rate: 0.75\n",
            "\n",
            "total reward: 7119.0\n",
            "overall win-rate: 0.7119\n",
            "explore count: 997\n",
            "exploit count: 9003\n",
            "optimal selection rate: 0.923\n",
            "num times selected each bandit: [243.0, 247.0, 280.0, 9230.0]\n"
          ],
          "name": "stdout"
        },
        {
          "output_type": "display_data",
          "data": {
            "image/png": "[encoded data removed]",
            "text/plain": [
              "<Figure size 432x288 with 1 Axes>"
            ]
          },
          "metadata": {
            "tags": [],
            "needs_background": "light"
          }
        },
        {
          "output_type": "stream",
          "text": [
            "optimal bandit: 4\n",
            "bandit1 estimate win-rate: 0.0 | true win_rate: 0\n",
            "bandit2 estimate win-rate: 0.243 | true win_rate: 0.25\n",
            "bandit3 estimate win-rate: 0.483 | true win_rate: 0.5\n",
            "bandit4 estimate win-rate: 0.75 | true win_rate: 0.75\n",
            "\n",
            "total reward: 71203.0\n",
            "overall win-rate: 0.71203\n",
            "explore count: 9914\n",
            "exploit count: 90086\n",
            "optimal selection rate: 0.92541\n",
            "num times selected each bandit: [2513.0, 2426.0, 2520.0, 92541.0]\n"
          ],
          "name": "stdout"
        },
        {
          "output_type": "display_data",
          "data": {
            "image/png": "[encoded data removed]",
            "text/plain": [
              "<Figure size 432x288 with 1 Axes>"
            ]
          },
          "metadata": {
            "tags": [],
            "needs_background": "light"
          }
        }
      ]
    },
    {
      "cell_type": "markdown",
      "metadata": {
        "id": "LN0YQFNB2swV",
        "colab_type": "text"
      },
      "source": [
        "  - problem: the chance of selecting a random bandit is fixed throughout all trials\n",
        "    - as time progresses and we collect more and more samples, we should be more confident about the sample proportion estimating the real proportion, therefore we should spend more time exploiting rather than exploring.\n",
        "  - solution 1: decaying epsilon\n",
        "    - we can decrease the epsilon throughout the trials by setting it inversely proportional to trials ${n}$ (${\\frac{epsilon}{n}}$), or be parametrized by a separate variable for time: ${t}$ (${\\frac{epsilon}{t}}$).\n",
        "      - both would function the same way in which we would do random selection less and less as we collect more samples.\n",
        "  - solution 2: probability distribution algorithms\n",
        "    - Upper Confidence Bound (UCB)\n",
        "    - Thompson Sampling\n",
        "\n"
      ]
    },
    {
      "cell_type": "markdown",
      "metadata": {
        "id": "7F29CMden80L",
        "colab_type": "text"
      },
      "source": [
        "### 2C. Upper Confidence Bound (UCB) Algorithm\n",
        "**I. Background**\n",
        "- during the explanation of the problem in Epsilon Greedy, the word \"confidence\" was referred in the intuitive sense\n",
        "  - in fact, this confidence can be modeled mathetically as the \"confidence interval\", in this case the probabilistic deviation of the true proportion around our sample mean which equals to\n",
        "  ![alt text](https://mat117.wisconsin.edu/wp-content/uploads/2014/12/section8-7.png)\n",
        "    - ${\\hat{p}}$ = sample mean\n",
        "    - ${z}$ = how many standard deviations away on a normal distribution\n",
        "    - ${n}$ = numbers of samples taken\n",
        "\n",
        "    ![alt text](https://qph.fs.quoracdn.net/main-qimg-fb825a5584d571ed78ef869a50793a83.webp)\n",
        "  \n",
        "  - as we take more samples, we see the curve of probability distribution tightens\n",
        "  <img src=\"https://upload.wikimedia.org/wikipedia/commons/thumb/1/1d/Marginoferror95.PNG/400px-Marginoferror95.PNG\" alt=\"alt text\"  width='400' height='378'>\n",
        "  \n",
        "  - mathematically, since ${n}$ is in the denominator, as it increases, our overall confidence interval size decreases\n",
        "    - there can also be seen a larger under the curve covering around the sample mean (or proportion)\n",
        "      - now, at the same confidence level, we will have a smaller confidence interval knowing the true proportion is closer to our sample proportion\n",
        "\n",
        "**II. UCB Intuition**\n",
        "\n",
        "<img src=\"https://media.geeksforgeeks.org/wp-content/uploads/20200126022459/Screenshot-2020-01-26-at-2.24.37-AM.png\" alt=\"alt text\"  width='743' height='340'>\n",
        "\n",
        "Sources:[Upper Confidence Bound Algorithm in Reinforcement Learning](https://www.geeksforgeeks.org/upper-confidence-bound-algorithm-in-reinforcement-learning/)\n",
        "\n",
        "- UCB's confidence interval for each bandit, similar to a traditional confidence interval, is modeled by the addition of a sample mean estimate with an error term: ${X_j}$ ± ${error}$\n",
        "  - ${X_j}$ = sample mean of choosing bandit ${j}$\n",
        "  - ${error}$ = $\\sqrt{\\frac{C\\ln(N)}{n_j}}$, ${C}$ is a constant parameter controlling the size of the bound, ${N}$ is number of trails taken, ${n_j}$ is the number of times bandit j has been selected\n",
        "    - intuitively, the error term will gradually decrease with more samples collected on one bandit as ${n_j}$ increases in the denominator, representing the agent becoming more confident of the sample proportion estimate\n",
        "    - however, as trial number increases and a bandit has not been selected very often such that ${n_j}$ is low relative to trials ${N}$, the error will become high, since in UCB the agent will opt for the bandit with the highest upperbound, it is more likely for the bandit with a high error to be selected to explore\n",
        "      - interestingly, since ${N}$ is inside of a log function, it gradually becomes less weighted compared ${n_j}$, the error term thus will gradually shrink down to zero with more we explore each bandit\n",
        "\n",
        "**III. Code**\n",
        "    \n"
      ]
    },
    {
      "cell_type": "code",
      "metadata": {
        "id": "wIZGkPE7gW0e",
        "colab_type": "code",
        "colab": {
          "base_uri": "https://localhost:8080/",
          "height": 1000
        },
        "outputId": "27c5db77-cb40-48b1-d7ff-7e76301b0a3a"
      },
      "source": [
        "# importing essential libraries for graphing and array processing\n",
        "import numpy as np\n",
        "import matplotlib.pyplot as plt\n",
        "\n",
        "# creating the blueprint for a bandit slot machine\n",
        "class Bandit:\n",
        "  def __init__(self, p):\n",
        "    self.p = p # the winning rate\n",
        "    self.p_hat = 0. # sample proportion, or the estimation for the winning rate, intialized to 0\n",
        "    self.n = 0. # number of samples collected on this bandit\n",
        "\n",
        "  def pull(self):\n",
        "    # draw the virtual bandit with a random probability p and check if won according to the winning rate\n",
        "    # return 1 if won, 0 if lost\n",
        "    return np.random.random() < self.p\n",
        "\n",
        "  def update(self, x):\n",
        "    # increment numbers of samples collected\n",
        "    self.n += 1.\n",
        "    # calculate the new p hat from the previous p hat and the newly obtained value (0 or 1)\n",
        "    self.p_hat = ((self.n - 1) * self.p_hat + x) / self.n\n",
        "\n",
        "def ucb(X, N, n):\n",
        "  # return the upper bound of bandit\n",
        "    # X: sample proportion estimate of this bandit's win-rate\n",
        "    # N: total numbers of trials so far\n",
        "    # n: total numbers of time this bandit has been selected\n",
        "  return X + np.sqrt(2 * np.log(N) / n)\n",
        "\n",
        "\n",
        "def run_simulation(bandits_probs_list, epsilon, trials):\n",
        "  # bandits_probs_list: a list containing the win-rates of bandits that we want to create\n",
        "  # epsilon: probability of random selection\n",
        "  # trials: numbers of trials, times we pull from bandits\n",
        "\n",
        "  # create a list of bandit objects according to their probabilities of win rate\n",
        "  bandits = [Bandit(p) for p in bandits_probs_list]\n",
        "  \n",
        "  # initialize variables\n",
        "  rewards = np.zeros(trials)\n",
        "  N = 0\n",
        "\n",
        "  # beginning by playing each bandit once to avoid 0/0\n",
        "  for bandit in bandits:\n",
        "    x = bandit.pull()\n",
        "    bandit.update(x)\n",
        "    N += 1\n",
        "  \n",
        "  # repeat for \"trials\" times\n",
        "  for i in range(trials):\n",
        "    # get the index of the bandit with the highest upper confidence bound\n",
        "    bandit_index = np.argmax([ucb(bandit.p_hat, N, bandit.n) for bandit in bandits])\n",
        "\n",
        "    # pull the bandit and update the sample proportion according to its reward, increment trials taken\n",
        "    x = bandits[bandit_index].pull()\n",
        "    bandits[bandit_index].update(x)\n",
        "    N += 1\n",
        "\n",
        "    # logging the reward for trial i\n",
        "    rewards[i] = x\n",
        "\n",
        "  # plot the results on linear scale\n",
        "  cumulative_rewards = np.cumsum(rewards)\n",
        "  win_rates = cumulative_rewards / (np.arange(trials) + 1)\n",
        "  plt.plot(win_rates)\n",
        "  plt.plot(np.ones(trials) * np.max(bandits_probs_list))\n",
        "  plt.title('cumulative win-rate over time')\n",
        "  plt.xlabel('number of trials')\n",
        "  plt.ylabel('win-rate')\n",
        "  plt.show()\n",
        "\n",
        "  # plot the results on log scale\n",
        "  cumulative_rewards = np.cumsum(rewards)\n",
        "  win_rates = cumulative_rewards / (np.arange(trials) + 1)\n",
        "  plt.plot(win_rates)\n",
        "  plt.plot(np.ones(trials) * np.max(bandits_probs_list))\n",
        "  plt.xscale('log')\n",
        "  plt.title('cumulative win-rate over time on log scale')\n",
        "  plt.xlabel('number of trials')\n",
        "  plt.ylabel('win-rate')\n",
        "  plt.show()\n",
        "\n",
        "  # print proportion estimates for each bandit\n",
        "  for i, bandit in enumerate(bandits):\n",
        "    print(f'bandit{i + 1} estimate win-rate: {round(bandit.p_hat, 3)} | true win_rate: {bandit.p}')\n",
        "\n",
        "  print(\"total reward earned:\", rewards.sum())\n",
        "  print(\"overall win rate:\", rewards.sum() / trials)\n",
        "  print(\"num times selected each bandit:\", [bandit.n for bandit in bandits])\n",
        "\n",
        "if __name__ == '__main__':\n",
        "  # simulate two multi-armed bandit problem with 4 machines with win-rates 0, 0.25, 0.5, 0.75\n",
        "  # Epsilon default to 0.1, thus 10% of random selection chance\n",
        "  # N defaulted to 10000 trials for first simulation, 100000 for the second\n",
        "  run_simulation([0, 0.25, 0.5, 0.75], 0.1, 10000)\n",
        "  run_simulation([0, 0.25, 0.5, 0.75], 0.1, 100000)"
      ],
      "execution_count": null,
      "outputs": [
        {
          "output_type": "display_data",
          "data": {
            "image/png": "[encoded data removed]",
            "text/plain": [
              "<Figure size 432x288 with 1 Axes>"
            ]
          },
          "metadata": {
            "tags": [],
            "needs_background": "light"
          }
        },
        {
          "output_type": "display_data",
          "data": {
            "image/png": "[encoded data removed]",
            "text/plain": [
              "<Figure size 432x288 with 1 Axes>"
            ]
          },
          "metadata": {
            "tags": [],
            "needs_background": "light"
          }
        },
        {
          "output_type": "stream",
          "text": [
            "bandit1 estimate win-rate: 0.0 | true win_rate: 0\n",
            "bandit2 estimate win-rate: 0.122 | true win_rate: 0.25\n",
            "bandit3 estimate win-rate: 0.423 | true win_rate: 0.5\n",
            "bandit4 estimate win-rate: 0.749 | true win_rate: 0.75\n",
            "total reward earned: 7400.0\n",
            "overall win rate: 0.74\n",
            "num times selected each bandit: [30.0, 41.0, 137.0, 9796.0]\n"
          ],
          "name": "stdout"
        },
        {
          "output_type": "display_data",
          "data": {
            "image/png": "[encoded data removed]",
            "text/plain": [
              "<Figure size 432x288 with 1 Axes>"
            ]
          },
          "metadata": {
            "tags": [],
            "needs_background": "light"
          }
        },
        {
          "output_type": "display_data",
          "data": {
            "image/png": "[encoded data removed]",
            "text/plain": [
              "<Figure size 432x288 with 1 Axes>"
            ]
          },
          "metadata": {
            "tags": [],
            "needs_background": "light"
          }
        },
        {
          "output_type": "stream",
          "text": [
            "bandit1 estimate win-rate: 0.0 | true win_rate: 0\n",
            "bandit2 estimate win-rate: 0.256 | true win_rate: 0.25\n",
            "bandit3 estimate win-rate: 0.515 | true win_rate: 0.5\n",
            "bandit4 estimate win-rate: 0.749 | true win_rate: 0.75\n",
            "total reward earned: 74756.0\n",
            "overall win rate: 0.74756\n",
            "num times selected each bandit: [40.0, 90.0, 371.0, 99503.0]\n"
          ],
          "name": "stdout"
        }
      ]
    },
    {
      "cell_type": "markdown",
      "metadata": {
        "id": "lEywbvGpARDN",
        "colab_type": "text"
      },
      "source": [
        ""
      ]
    },
    {
      "cell_type": "markdown",
      "metadata": {
        "id": "iO6DabZ8nIy8",
        "colab_type": "text"
      },
      "source": [
        "**IV. Reflection**\n",
        "- Compared to Epsilon Greedy, we see the agent's overall win-rate on UCB approaches quickly to the probability of winning on the optimal bandit, representing that the agent consolidates its selection choice down to the optimal bandit as it becomes more confident of its sample proportion estimate. There is also more times exploiting the optimal machine\n",
        "  - Thus UCB is definitely superior when performing on higher numbers of trials"
      ]
    },
    {
      "cell_type": "markdown",
      "metadata": {
        "id": "CgP8pY3lYAkR",
        "colab_type": "text"
      },
      "source": [
        "## 3. Markov Decision Processes (MDP)\n",
        "- As preluded in the introduction, the diagram with circular interaction between the agent and its environment essentially is a simplified version of MDP\n",
        "- MDP is a fundamental framework from which many of the advanced RL algorithms are developed from\n",
        "\n",
        "![alt text](https://www.researchgate.net/profile/Daniele_Grattarola/publication/323218981/figure/fig9/AS:594583624896516@1518771191892/Graph-representation-of-an-MDP-Each-gray-node-represents-a-state-each-arc-leaving-a.png)\n",
        "\n",
        "sources: [Graph representation of an MDP by Daniele Grattarola](https://www.researchgate.net/figure/Graph-representation-of-an-MDP-Each-gray-node-represents-a-state-each-arc-leaving-a_fig9_323218981)\n",
        "  - Basically, it models after the probabilisitc transitions between states through choosing certain actions and their corresponding rewards\n",
        "    - ${S}$ = state\n",
        "    - ${a}$ = action\n",
        "    - 0-1 decimal = probability\n",
        "    - integer = reward\n",
        "\n",
        "- MDP is derived upon basic Markov Models and a concept known as Markov Assumption (Markov Property)\n",
        "    - We will be assuming that the probability distribution of our next states and rewards depends solely on our current state, therefore the first-order Markov assumption\n",
        "      - though this may seem restriciting and unrealistic at first, the Markov Assumption is crucial towards simplifying the complex probablisitic transitions we observe in real life, and it is shown to be extremely practical and applicable in many fields\n",
        "\n",
        "- Important Terminologies\n",
        "  - Episode\n",
        "    - each round of the game from a \"start state\" to a \"terminal state\"\n",
        "  - Policy - ${\\pi(s)}$\n",
        "    - a function that decides what action to commit given a state $s$\n",
        "    - the \"brain\" of the agent\n",
        "    - this is essentially what we want to optimize\n",
        "  - State Value Function - ${V_\\pi(s)}$\n",
        "    - this outputs the expected cumulative\n",
        "future reward, that is, the summation of all rewards that will be received after current state $s$ using our currently policy ${\\pi}$\n",
        "    - will often be used to evaluate our policy\n",
        "    - iterative formula\n",
        "    ![alt text](https://i.imgur.com/uIsblET.png)\n",
        "      - ${E_\\pi}$(): expected value of\n",
        "      - ${R(t+1)}$: return of choose current state ${s}$\n",
        "      - ${\\gamma}$: discounting variable\n",
        "        - weighting more the value functions of the near future states by downgrading the expected value of reward the farther a future state is\n",
        "      - ${V_\\pi(s')}$: value of next state\n",
        "  - Action Value Function - ${Q_\\pi(s, a)}$ \n",
        "    - this outputs the expected future return given we commit an action ${a}$ on state ${s}$ and thereafter using only our current policy ${\\pi}$\n",
        "    - will often be used to update, or improve, our policy\n",
        "    - iterative formula \n",
        "    ![alt text](https://i.imgur.com/NVIC3Zo.png)\n",
        "      - the inner term \n",
        "${\\sum_{a'}\\ \\pi(a' | s')\\ Q_\\pi(s', a')}$ gives the expected value of the next state action value function distribution by multiplying together the probability and value pair of each of possible next action ${a'}$ in next state ${s'}$\n",
        "\n",
        "- Solving MDP\n",
        "  - the solving techniques taken by many algorithms are also iterative and involve a loop between two steps\n",
        "    - policy evaluation\n",
        "      - this step will solve for the state value function discussed above given the agent's current policy\n",
        "    - policy control (improvement)\n",
        "      - this step will seek to update our policy by finding the best action at each state using the action value function derived from the state value function we obtained from policy evaluation\n",
        "\n",
        "- Additional readings for MDP\n",
        "  - [Reinforcement Learning Demystified: Markov Decision Processes (Part 1)](https://towardsdatascience.com/reinforcement-learning-demystified-markov-decision-processes-part-1-bf00dda41690)\n",
        "  - [Reinforcement Learning Demystified: Markov Decision Processes (Part 2)](https://towardsdatascience.com/reinforcement-learning-demystified-markov-decision-processes-part-2-b209e8617c5a)\n"
      ]
    },
    {
      "cell_type": "markdown",
      "metadata": {
        "id": "50sila0zYFB9",
        "colab_type": "text"
      },
      "source": [
        "## 4. Monte Carlo Method\n",
        "**I. Intro & Background**\n",
        "\n",
        "Monte Carlo is an effective algorithm that, similar to solving a traditional multi-armed bandit problem, collect empirical data by repeatedly playing the game and uses the samples returns based on the action state transitions to gradually update, refine its policy, thus improving the agent's decision making\n",
        "  - we can essentially think that Monte Carlo treats the action selection at each state as a separate multi-armed bandit problem, only that in this case the bandits are interrelated and we are trying to optimize them all at once \n",
        "\n",
        "**II. Monte Carlo Intuition**\n",
        "- policy evaluation\n",
        "  - solving policy evaluation involves finding the returns of state value functions ${V(s)}$ for all states given a policy\n",
        "  - MC does this by running many rounds of episodes and collecting each state $s$ and their corresponding reward $r$, then calculating and recording the expected future rewards $G$ for each state in reverse time steps using iterative formula: ${G(t) = R(t+1) + \\gamma\\ G(t+1)}$, at last averaging G out for for each state to obtain the estimated returns ${V_\\pi(s)}$\n",
        "- policy control\n",
        "  - recall that the action value function ${Q(s, a)}$ is required for solving policy control problem\n",
        "  - similar to the approach we took in policy evluation, MC finds ${Q(s, a)}$ by logging an addition variable action ${a}$ the agent took on top of state ${s}$ and reward ${r}$ as it runs through many episodes\n",
        "    - after obtaining the action value function, we can then update the agent's policy by simply choosing the action that returns the highest action value at each state: $\\pi(s) = argmax_aQ(s,a)$\n",
        "\n",
        "**III. Code in FrozenLake Environment**\n",
        "- FrozenLake is one of the open-source training environments created by OpenAI for Reinforcement Learning experiments\n",
        "  - it is a gridworld-like game with a movable agent and four states on the map: S for the starting state, F for frozen lake, H for hole, and G for the goal state or the terminal state \n",
        "    - agent will only receive a reward of 1 if it reaches the goal state, receiving 0 otherwise\n",
        "  - we want to train the agent to navigate through each map, reaching the goal state through frozen lake without walking into a hole.\n",
        "    - one thing to be aware is by default that the environment are also simulates the \"slippery\" nature of the frozen lake so there is a constant probability that the agent will go in a random direction instead of what it wants to go\n",
        "- We will be using this library to test out our codes for Monte Carlo and later TD(0) and Q-Learning\n",
        "  - [Website](https://gym.openai.com/envs/FrozenLake-v0/)\n",
        "  - [Source](https://github.com/openai/gym/blob/master/gym/envs/toy_text/frozen_lake.py)"
      ]
    },
    {
      "cell_type": "code",
      "metadata": {
        "id": "haaXsPnwWcUO",
        "colab_type": "code",
        "colab": {}
      },
      "source": [
        "# importing OpenAI gym containing the FrozenLake environment we will use\n",
        "import gym\n",
        "# importing essential libraries for graphing and array processing\n",
        "import numpy as np\n",
        "import matplotlib.pyplot as plt\n",
        "\n",
        "# play through an episode of FrozenLake and return a list of (state, action, reward) observed using our current policy\n",
        "def play_episode(env, policy):\n",
        "    # reset the environment to starting state\n",
        "    env.reset()\n",
        "    # initialize a list containing the returning triples: state, action, and reward\n",
        "    states_actions_rewards = []\n",
        "    # mark the start state\n",
        "    state = 0\n",
        "\n",
        "    # start our episode with a maximum of 100 steps available before termination\n",
        "    for t in range(100):\n",
        "      # choose our action based on our current policy\n",
        "      action = policy(state)\n",
        "      # commit the action and get the returning new state, reward, whether if we reached a terminal state, and debugging information\n",
        "      new_state, reward, done, info = env.step(action)\n",
        "      # append the return as a tuple to the list\n",
        "      states_actions_rewards.append((state, action, reward))\n",
        "      # check that if we reached a terminal state if so print out the how many steps it took, then break through the loop\n",
        "      if done:\n",
        "        print(\"Episode finished after {} timesteps\".format(t+1))\n",
        "        break\n",
        "      # mark our new state as our state\n",
        "      state = new_state\n",
        "\n",
        "    return states_actions_rewards\n",
        "\n",
        "\n",
        "# create and return the parameterized epsilon greedy policy as a function\n",
        "def return_policy(policy_dict, epsilon = 0.2, env = env):\n",
        "\n",
        "    def epsilon_greedy_policy(state):\n",
        "        # draw a random float from 0 to 1, and if it is less than our epsilon\n",
        "        if np.random.random() < epsilon:\n",
        "          # return a random action based on our environment's action space\n",
        "          return env.action_space.sample()\n",
        "        else:\n",
        "          # return the action decided by our policy\n",
        "          return policy_dict[state]\n",
        "\n",
        "    return epsilon_greedy_policy\n",
        "\n",
        "# train the agent on \"episodes\" amount of games in the environment\n",
        "def run_simulation(env, episodes, policy_dict, gamma=0.95):\n",
        "    # initialize a np array, also known as the q-table, storing state-action values Q(s,a) with size of states by size actions (in our case 16 by 4)\n",
        "    Q = np.zeros((env.observation_space.n, env.action_space.n))\n",
        "    \n",
        "    # create a dictionary storing the cumulative return for each state and action pair\n",
        "    returns_Q = dict()\n",
        "    # create a dictionary storing the numbers of visits for each state and action pair\n",
        "    nb_visits = dict()\n",
        "\n",
        "    # get epsilon policy \n",
        "    policy = return_policy(policy_dict)\n",
        "    \n",
        "    for i in range(episodes):\n",
        "        # play and get the return of each episode\n",
        "        episode = play_episode(env, policy)\n",
        "        # initialize the return of terminal state to be 0, by definition\n",
        "        G = 0\n",
        "        \n",
        "        nb_visits = dict()\n",
        "\n",
        "        # loop through the states_actions_rewards triples in reverse order\n",
        "        for state, action, reward in reversed(episode):\n",
        "            # calculate reward\n",
        "            G = reward + gamma*G\n",
        "            # update dictionaries\n",
        "            returns_Q[state, action] = G\n",
        "            nb_visits[state, action] += 1 \n",
        "            # calculate and update the q-table\n",
        "            Q[state, action] += 1/nb_visits[state, action] * (returns_Q[state, action] - Q[state,action])\n",
        "        \n",
        "            # update best policy for the state according to argmax (finding the action with highest action value)\n",
        "            greedy_policy[state] = np.argmax(Q[state, :])\n",
        "        \n",
        "    return policy, greedy_policy, Q, returns_Q, nb_visits"
      ],
      "execution_count": null,
      "outputs": []
    },
    {
      "cell_type": "markdown",
      "metadata": {
        "id": "0R2Nn7PnhH_B",
        "colab_type": "text"
      },
      "source": [
        "Disadvantage: Monte Carlo needs to wait for the termination of each episode in order to calculate for the value functions to conduct its policy evluation and control given that it run the iterative algorithm in reverse order thus needs to know the reward at the terminal state.\n",
        "- this means that Monte Carlo isn't a true \"online\" algorithm in a way it can't update while playing through an episode\n",
        "- becomes problematic when an episode takes a long time to finish or that it never finishes"
      ]
    },
    {
      "cell_type": "markdown",
      "metadata": {
        "id": "ke7Iw1p8YNHC",
        "colab_type": "text"
      },
      "source": [
        "## 5. Temporal Difference (TD) Learning with Q-Learning\n",
        "**I. Intro & Background**\n",
        "- While TD also learns from experience by collecting empirical data, in contrast to Monte Carlo, it is a online algorithm which means it can calculate and update values even when playing through an episode\n",
        "- TD uses rewards as estimates for the value functions instead of needing to calculate the actual returns $G$\n",
        "  - it can iteratively improve its estimates based on existing estimates, a process known as bootstrapping\n",
        "\n",
        "**II. TD(0) & Q-Learning Intuition**\n",
        "- policy evaluation\n",
        "  - TD(0) is an algorithm in TD learning that calculates for the expected return ${V_\\pi(s)}$\n",
        "    - instead of needing to use the average the actual returns $G$ like Monte Carlo in the calculation, TD(0) calculates for the average recursively using an alternative form of ${V(s)}$: $V(s) = V(s) + \\alpha[r + \\gamma V(s')-V(s)]$ using an estimate V from only the next state\n",
        "      - $\\alpha$: the moving average hyperparameter, usually from 0-0.5, essentially weighting the older sample means expotentially less by ${(1-\\alpha)}$ when calculating for the new sample mean by adding the newest sample\n",
        "      - instead of waiting for an entire episode to finish, we only need to wait for the next state in order to update our $V$ for our current state\n",
        "\n",
        "- policy control\n",
        "  - Q-Learning is an algorithm used for solving action value functions for TD learning\n",
        "  - It follows the same pattern as TD(0) in which we will only need to know the estimate of action value function of next state in order to update our sample estimate of the action value function of our current state, following: $Q(s,a) = Q(s,a) + \\alpha[r + \\gamma max_a'Q(s', a') - Q(s, a)]$\n",
        "  - It is also known as an off-policy method as the algorithm does not always follows the current best policy, rather choose random actions at times\n",
        "    - though it tends to make episodes longer due to choosing suboptimal actions, it also explores more possible states, sometimes hideous ones, as a result\n",
        "\n",
        "**III. Code in FrozenLake Environment**"
      ]
    },
    {
      "cell_type": "code",
      "metadata": {
        "id": "SSADnnX-t6js",
        "colab_type": "code",
        "colab": {}
      },
      "source": [
        ""
      ],
      "execution_count": null,
      "outputs": []
    },
    {
      "cell_type": "markdown",
      "metadata": {
        "id": "C-qJBTOpXM7u",
        "colab_type": "text"
      },
      "source": [
        "## Sources: "
      ]
    },
    {
      "cell_type": "markdown",
      "metadata": {
        "id": "5Fh8KsuQX0Yg",
        "colab_type": "text"
      },
      "source": [
        "## Additional Resources & Links:\n",
        "Book by Barton and Sutton: http://www.andrew.cmu.edu/course/10-703/textbook/BartoSutton.pdf\n",
        "\n",
        "MDP: https://www.cs.cornell.edu/home/halpern/papers/markov.pdf\n"
      ]
    },
    {
      "cell_type": "code",
      "metadata": {
        "id": "fZrtfL0wSVlu",
        "colab_type": "code",
        "colab": {}
      },
      "source": [
        ""
      ],
      "execution_count": null,
      "outputs": []
    }
  ]
}